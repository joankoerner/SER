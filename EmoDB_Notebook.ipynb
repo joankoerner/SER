{
 "cells": [
  {
   "cell_type": "markdown",
   "id": "ba0b685d",
   "metadata": {},
   "source": [
    "# EmoDB Notebook"
   ]
  },
  {
   "cell_type": "code",
   "execution_count": null,
   "id": "a83bfedf",
   "metadata": {},
   "outputs": [],
   "source": [
    "# Import Libraries\n",
    "import pandas as pd\n",
    "import numpy as np \n",
    "import glob\n",
    "import os\n",
    "from os.path import isfile, join\n",
    "import soundfile as sf \n",
    "import sys\n",
    "import librosa \n",
    "import librosa.display\n",
    "import seaborn as sbn\n",
    "import matplotlib.pyplot as plt \n",
    "from sklearn import metrics\n",
    "from sklearn.preprocessing import StandardScaler, OneHotEncoder\n",
    "from sklearn.metrics import confusion_matrix, classification_report \n",
    "from sklearn.model_selection import train_test_split\n",
    "from sklearn.neural_network import MLPClassifier\n",
    "from sklearn.metrics import accuracy_score\n",
    "from IPython.display import Audio\n",
    "import scipy.io.wavfile\n",
    "from scipy.fftpack import dct\n",
    "import warnings\n",
    "if not sys.warnoptions:\n",
    "    warnings.simplefilter(\"ignore\")\n",
    "warnings.filterwarnings(\"ignore\", category=DeprecationWarning)\n",
    "from tensorflow import keras\n",
    "from keras.models import Sequential\n",
    "from keras.layers import Dense, Dropout, Flatten, Conv2D, MaxPooling2D, Conv1D, MaxPooling1D\n",
    "from keras.utils import to_categorical\n",
    "from keras.callbacks import ReduceLROnPlateau"
   ]
  },
  {
   "cell_type": "code",
   "execution_count": 2,
   "id": "7a361ceb",
   "metadata": {},
   "outputs": [],
   "source": [
    "# Folder path\n",
    "EmodbData = \"C:/Users/Lenovo/Documents/3rd Year Project/Dataset/EmoDB/\""
   ]
  },
  {
   "cell_type": "code",
   "execution_count": 32,
   "id": "759c2f1b",
   "metadata": {},
   "outputs": [
    {
     "data": {
      "text/html": [
       "<div>\n",
       "<style scoped>\n",
       "    .dataframe tbody tr th:only-of-type {\n",
       "        vertical-align: middle;\n",
       "    }\n",
       "\n",
       "    .dataframe tbody tr th {\n",
       "        vertical-align: top;\n",
       "    }\n",
       "\n",
       "    .dataframe thead th {\n",
       "        text-align: right;\n",
       "    }\n",
       "</style>\n",
       "<table border=\"1\" class=\"dataframe\">\n",
       "  <thead>\n",
       "    <tr style=\"text-align: right;\">\n",
       "      <th></th>\n",
       "      <th>Emotions</th>\n",
       "      <th>Path</th>\n",
       "    </tr>\n",
       "  </thead>\n",
       "  <tbody>\n",
       "    <tr>\n",
       "      <th>0</th>\n",
       "      <td>F</td>\n",
       "      <td>C:/Users/Lenovo/Documents/3rd Year Project/Dat...</td>\n",
       "    </tr>\n",
       "    <tr>\n",
       "      <th>1</th>\n",
       "      <td>N</td>\n",
       "      <td>C:/Users/Lenovo/Documents/3rd Year Project/Dat...</td>\n",
       "    </tr>\n",
       "    <tr>\n",
       "      <th>2</th>\n",
       "      <td>W</td>\n",
       "      <td>C:/Users/Lenovo/Documents/3rd Year Project/Dat...</td>\n",
       "    </tr>\n",
       "    <tr>\n",
       "      <th>3</th>\n",
       "      <td>F</td>\n",
       "      <td>C:/Users/Lenovo/Documents/3rd Year Project/Dat...</td>\n",
       "    </tr>\n",
       "    <tr>\n",
       "      <th>4</th>\n",
       "      <td>N</td>\n",
       "      <td>C:/Users/Lenovo/Documents/3rd Year Project/Dat...</td>\n",
       "    </tr>\n",
       "  </tbody>\n",
       "</table>\n",
       "</div>"
      ],
      "text/plain": [
       "  Emotions                                               Path\n",
       "0        F  C:/Users/Lenovo/Documents/3rd Year Project/Dat...\n",
       "1        N  C:/Users/Lenovo/Documents/3rd Year Project/Dat...\n",
       "2        W  C:/Users/Lenovo/Documents/3rd Year Project/Dat...\n",
       "3        F  C:/Users/Lenovo/Documents/3rd Year Project/Dat...\n",
       "4        N  C:/Users/Lenovo/Documents/3rd Year Project/Dat..."
      ]
     },
     "execution_count": 32,
     "metadata": {},
     "output_type": "execute_result"
    }
   ],
   "source": [
    "# Extract data from folder\n",
    "fileEmotion = []\n",
    "filePath = []\n",
    "EmodbList = os.listdir(EmodbData)\n",
    "for dir in EmodbList:\n",
    "    filePath.append(EmodbData + dir)\n",
    "    fileEmotion.append(dir[5])\n",
    "    \n",
    "dfEmotion = pd.DataFrame(fileEmotion, columns=['Emotions'])\n",
    "dfPath = pd.DataFrame(filePath, columns=['Path'])\n",
    "dfEmodb = pd.concat([dfEmotion, dfPath], axis=1)\n",
    "dfPath = pd.concat([dfEmodb], axis = 0)\n",
    "dfEmodb.head()"
   ]
  },
  {
   "cell_type": "code",
   "execution_count": 34,
   "id": "bea152ea",
   "metadata": {},
   "outputs": [
    {
     "data": {
      "text/plain": [
       "W    127\n",
       "L     81\n",
       "N     79\n",
       "F     71\n",
       "A     69\n",
       "T     62\n",
       "E     46\n",
       "Name: Emotions, dtype: int64"
      ]
     },
     "execution_count": 34,
     "metadata": {},
     "output_type": "execute_result"
    }
   ],
   "source": [
    "dfEmodb['Emotions'].value_counts()"
   ]
  },
  {
   "cell_type": "code",
   "execution_count": 41,
   "id": "74138f0d",
   "metadata": {},
   "outputs": [
    {
     "name": "stdout",
     "output_type": "stream",
     "text": [
      "339\n"
     ]
    }
   ],
   "source": [
    "# Save files of the four emotions\n",
    "fileDuration = 0\n",
    "fileDuration = []\n",
    "label = 0\n",
    "label = []\n",
    "path1 = 0\n",
    "path1 = []\n",
    "count = 0\n",
    "for i in range(len(dfEmodb)):\n",
    "    if dfEmodb['Emotions'][i] == 'F':\n",
    "        count = count +1\n",
    "        label.append(dfEmodb['Emotions'][i])\n",
    "        path1.append(dfEmodb['Path'][i])\n",
    "        signal, sr = librosa.load(dfEmodb['Path'][i])\n",
    "        fileDuration.append(len(signal))\n",
    "        \n",
    "    if dfEmodb['Emotions'][i] == 'N':\n",
    "        count = count +1\n",
    "        label.append(dfEmodb['Emotions'][i])\n",
    "        path1.append(dfEmodb['Path'][i])\n",
    "        signal, sr = librosa.load(dfEmodb['Path'][i])\n",
    "        fileDuration.append(len(signal))\n",
    "        \n",
    "    if dfEmodb['Emotions'][i] == 'W':\n",
    "        count = count +1\n",
    "        label.append(dfEmodb['Emotions'][i])\n",
    "        path1.append(dfEmodb['Path'][i])\n",
    "        signal, sr = librosa.load(dfEmodb['Path'][i])\n",
    "        fileDuration.append(len(signal))\n",
    "        \n",
    "    if dfEmodb['Emotions'][i] == 'T':\n",
    "        count = count +1\n",
    "        label.append(dfEmodb['Emotions'][i])\n",
    "        path1.append(dfEmodb['Path'][i])\n",
    "        signal, sr = librosa.load(dfEmodb['Path'][i])\n",
    "        fileDuration.append(len(signal))\n",
    "        \n",
    "    \n",
    "print(count)"
   ]
  },
  {
   "cell_type": "code",
   "execution_count": 43,
   "id": "ac7e352a",
   "metadata": {},
   "outputs": [],
   "source": [
    "# Create new dataframe\n",
    "dfEmodb_shortened = pd.DataFrame(\n",
    "    {'Label': label,\n",
    "     'Path': path1,\n",
    "     'Duration': fileDuration\n",
    "    })"
   ]
  },
  {
   "cell_type": "code",
   "execution_count": 53,
   "id": "c653bef4",
   "metadata": {},
   "outputs": [
    {
     "data": {
      "text/html": [
       "<div>\n",
       "<style scoped>\n",
       "    .dataframe tbody tr th:only-of-type {\n",
       "        vertical-align: middle;\n",
       "    }\n",
       "\n",
       "    .dataframe tbody tr th {\n",
       "        vertical-align: top;\n",
       "    }\n",
       "\n",
       "    .dataframe thead th {\n",
       "        text-align: right;\n",
       "    }\n",
       "</style>\n",
       "<table border=\"1\" class=\"dataframe\">\n",
       "  <thead>\n",
       "    <tr style=\"text-align: right;\">\n",
       "      <th></th>\n",
       "      <th>Label</th>\n",
       "      <th>Path</th>\n",
       "      <th>Duration</th>\n",
       "    </tr>\n",
       "  </thead>\n",
       "  <tbody>\n",
       "    <tr>\n",
       "      <th>0</th>\n",
       "      <td>Happiness</td>\n",
       "      <td>C:/Users/Lenovo/Documents/3rd Year Project/Dat...</td>\n",
       "      <td>41857</td>\n",
       "    </tr>\n",
       "    <tr>\n",
       "      <th>1</th>\n",
       "      <td>Neutral</td>\n",
       "      <td>C:/Users/Lenovo/Documents/3rd Year Project/Dat...</td>\n",
       "      <td>35529</td>\n",
       "    </tr>\n",
       "    <tr>\n",
       "      <th>2</th>\n",
       "      <td>Anger</td>\n",
       "      <td>C:/Users/Lenovo/Documents/3rd Year Project/Dat...</td>\n",
       "      <td>41406</td>\n",
       "    </tr>\n",
       "    <tr>\n",
       "      <th>3</th>\n",
       "      <td>Happiness</td>\n",
       "      <td>C:/Users/Lenovo/Documents/3rd Year Project/Dat...</td>\n",
       "      <td>44238</td>\n",
       "    </tr>\n",
       "    <tr>\n",
       "      <th>4</th>\n",
       "      <td>Neutral</td>\n",
       "      <td>C:/Users/Lenovo/Documents/3rd Year Project/Dat...</td>\n",
       "      <td>31748</td>\n",
       "    </tr>\n",
       "    <tr>\n",
       "      <th>...</th>\n",
       "      <td>...</td>\n",
       "      <td>...</td>\n",
       "      <td>...</td>\n",
       "    </tr>\n",
       "    <tr>\n",
       "      <th>334</th>\n",
       "      <td>Happiness</td>\n",
       "      <td>C:/Users/Lenovo/Documents/3rd Year Project/Dat...</td>\n",
       "      <td>56967</td>\n",
       "    </tr>\n",
       "    <tr>\n",
       "      <th>335</th>\n",
       "      <td>Sadness</td>\n",
       "      <td>C:/Users/Lenovo/Documents/3rd Year Project/Dat...</td>\n",
       "      <td>77189</td>\n",
       "    </tr>\n",
       "    <tr>\n",
       "      <th>336</th>\n",
       "      <td>Sadness</td>\n",
       "      <td>C:/Users/Lenovo/Documents/3rd Year Project/Dat...</td>\n",
       "      <td>86749</td>\n",
       "    </tr>\n",
       "    <tr>\n",
       "      <th>337</th>\n",
       "      <td>Anger</td>\n",
       "      <td>C:/Users/Lenovo/Documents/3rd Year Project/Dat...</td>\n",
       "      <td>53232</td>\n",
       "    </tr>\n",
       "    <tr>\n",
       "      <th>338</th>\n",
       "      <td>Anger</td>\n",
       "      <td>C:/Users/Lenovo/Documents/3rd Year Project/Dat...</td>\n",
       "      <td>55622</td>\n",
       "    </tr>\n",
       "  </tbody>\n",
       "</table>\n",
       "<p>339 rows × 3 columns</p>\n",
       "</div>"
      ],
      "text/plain": [
       "         Label                                               Path  Duration\n",
       "0    Happiness  C:/Users/Lenovo/Documents/3rd Year Project/Dat...     41857\n",
       "1      Neutral  C:/Users/Lenovo/Documents/3rd Year Project/Dat...     35529\n",
       "2        Anger  C:/Users/Lenovo/Documents/3rd Year Project/Dat...     41406\n",
       "3    Happiness  C:/Users/Lenovo/Documents/3rd Year Project/Dat...     44238\n",
       "4      Neutral  C:/Users/Lenovo/Documents/3rd Year Project/Dat...     31748\n",
       "..         ...                                                ...       ...\n",
       "334  Happiness  C:/Users/Lenovo/Documents/3rd Year Project/Dat...     56967\n",
       "335    Sadness  C:/Users/Lenovo/Documents/3rd Year Project/Dat...     77189\n",
       "336    Sadness  C:/Users/Lenovo/Documents/3rd Year Project/Dat...     86749\n",
       "337      Anger  C:/Users/Lenovo/Documents/3rd Year Project/Dat...     53232\n",
       "338      Anger  C:/Users/Lenovo/Documents/3rd Year Project/Dat...     55622\n",
       "\n",
       "[339 rows x 3 columns]"
      ]
     },
     "execution_count": 53,
     "metadata": {},
     "output_type": "execute_result"
    }
   ],
   "source": [
    "dfEmodb_shortened.Label.replace({'W':'Anger','F':'Happiness', 'T':'Sadness', 'N':'Neutral'}, inplace=True)\n",
    "dfEmodb_shortened"
   ]
  },
  {
   "cell_type": "code",
   "execution_count": 73,
   "id": "b335aaab",
   "metadata": {},
   "outputs": [
    {
     "data": {
      "text/plain": [
       "Anger        127\n",
       "Neutral       79\n",
       "Happiness     71\n",
       "Sadness       62\n",
       "Name: Label, dtype: int64"
      ]
     },
     "execution_count": 73,
     "metadata": {},
     "output_type": "execute_result"
    },
    {
     "data": {
      "image/png": "[encoded data removed]",
      "text/plain": [
       "<Figure size 432x288 with 1 Axes>"
      ]
     },
     "metadata": {
      "needs_background": "light"
     },
     "output_type": "display_data"
    }
   ],
   "source": [
    "# Compute distribution of files\n",
    "distribution = dfEmodb_shortened['Label'].value_counts().plot(kind='barh', title='Number of Files per Emotion: EmoDB')\n",
    "dfEmodb_shortened['Label'].value_counts()\n"
   ]
  },
  {
   "cell_type": "code",
   "execution_count": 70,
   "id": "d8fe9dd0",
   "metadata": {},
   "outputs": [
    {
     "name": "stdout",
     "output_type": "stream",
     "text": [
      "2.8131843022361354\n",
      "1.4308390022675737\n",
      "8.97827664399093\n"
     ]
    }
   ],
   "source": [
    "# Compute the distribution of file lengths\n",
    "avgDuration = sum(dfEmodb_shortened.Duration)/len(dfEmodb_shortened.Duration)\n",
    "minDuration = min(dfEmodb_shortened.Duration)\n",
    "maxDuration = max(dfEmodb_shortened.Duration)\n",
    "print(avgDuration/sr)\n",
    "print(minDuration/sr)\n",
    "print(maxDuration/sr)\n",
    "\n",
    "dfEmodb_shortened[\"Duration_sec\"] = dfEmodb_shortened['Duration']/sr "
   ]
  },
  {
   "cell_type": "code",
   "execution_count": 84,
   "id": "a04a25de",
   "metadata": {},
   "outputs": [
    {
     "data": {
      "image/png": "[encoded data removed]",
      "text/plain": [
       "<Figure size 432x288 with 1 Axes>"
      ]
     },
     "metadata": {
      "needs_background": "light"
     },
     "output_type": "display_data"
    },
    {
     "name": "stdout",
     "output_type": "stream",
     "text": [
      "75.0% of files have a length shorter than 3.31 seconds.\n"
     ]
    }
   ],
   "source": [
    "# Plot distribution of file lengths\n",
    "import matplotlib.pyplot as plt\n",
    "from scipy.stats import gaussian_kde\n",
    "\n",
    "pdf = gaussian_kde(dfEmodb_shortened['Duration_sec'])\n",
    "x = np.linspace(dfEmodb_shortened['Duration_sec'].min(), dfEmodb_shortened['Duration_sec'].max(), 100)\n",
    "plt.plot(x,pdf(x))\n",
    "plt.xlabel(\"File Length (seconds)\")\n",
    "plt.title(\"Distribution of File Lengths: EmoDB\")\n",
    "plt.show()\n",
    "\n",
    "cdf = dfEmodb_shortened['Duration_sec'].value_counts(normalize=True).sort_index().cumsum()\n",
    "\n",
    "threshold = 0.75\n",
    "point = cdf[cdf <= threshold].index.max()\n",
    "print(f\"{threshold*100}% of files have a length shorter than {point:.2f} seconds.\")"
   ]
  },
  {
   "cell_type": "code",
   "execution_count": 74,
   "id": "df48644a",
   "metadata": {},
   "outputs": [],
   "source": [
    "Crop files \n",
    "setfileDuration = 3.31*sr # set file duration to 3.31 seconds\n",
    "newlabel = []\n",
    "for path in dfEmodb_shortened.Path:\n",
    "    savePath = 'C:/Users/Lenovo/Documents/3rd Year Project/Dataset/Emodb_Baseline/'+ path[57:]\n",
    "    signal, sr = librosa.load(path)\n",
    "    fileDuration = len(signal)\n",
    "    if fileDuration != setfileDuration :\n",
    "        # crop soundwave \n",
    "        trimmedFiles = librosa.util.fix_length(signal, int(setfileDuration))\n",
    "        soundfile.write(savePath, trimmedFiles, sr)\n",
    "    else:\n",
    "        soundfile.write(savePath, signal, sr)\n",
    "    newlabel.append(path[62])"
   ]
  },
  {
   "cell_type": "code",
   "execution_count": 88,
   "id": "bd57d0c7",
   "metadata": {},
   "outputs": [],
   "source": [
    "# Extract MFCC features\n",
    "from os import listdir\n",
    "from os.path import isfile, join\n",
    "data = []\n",
    "label = []\n",
    "Path = 'C:/Users/Lenovo/Documents/3rd Year Project/Dataset/Emodb_Baseline/'\n",
    "files = [f for f in listdir(Path) if isfile(join(Path, f))]\n",
    "for x in files:\n",
    "    filePath = Path + x\n",
    "    label.append(x[5])\n",
    "    signal, sr = librosa.load(filePath, sr=None)\n",
    "    mfcc = librosa.feature.mfcc(signal, n_fft=2048, hop_length = 256, n_mfcc = 18) \n",
    "    data.append(mfcc)"
   ]
  },
  {
   "cell_type": "code",
   "execution_count": 170,
   "id": "aebdec2d",
   "metadata": {
    "scrolled": true
   },
   "outputs": [
    {
     "data": {
      "image/png": "[encoded data removed]",
      "text/plain": [
       "<Figure size 504x288 with 2 Axes>"
      ]
     },
     "metadata": {
      "needs_background": "light"
     },
     "output_type": "display_data"
    },
    {
     "name": "stdout",
     "output_type": "stream",
     "text": [
      "1\n"
     ]
    }
   ],
   "source": [
    "# Plot MFCC spectrogram\n",
    "plt.figure(figsize=(7, 4))\n",
    "librosa.display.specshow(data[5], x_axis='time', sr=sr)\n",
    "plt.colorbar()\n",
    "plt.title('MFCCs: RAVDESS Sad')\n",
    "plt.tight_layout()\n",
    "plt.show()\n",
    "print(label[5])"
   ]
  },
  {
   "cell_type": "code",
   "execution_count": 89,
   "id": "99d51ba7",
   "metadata": {},
   "outputs": [
    {
     "name": "stdout",
     "output_type": "stream",
     "text": [
      "[0, 3, 2, 0, 3, 1, 2, 2, 0, 3, 1, 2, 0, 3, 1, 2, 2, 0, 0, 3, 2, 0, 3, 1, 2, 2, 3, 1, 2, 3, 1, 2, 3, 1, 2, 3, 3, 2, 2, 0, 3, 2, 2, 0, 3, 1, 2, 0, 3, 1, 2, 0, 3, 1, 2, 0, 3, 1, 1, 2, 0, 0, 3, 2, 0, 3, 1, 2, 0, 3, 1, 2, 0, 3, 1, 2, 2, 0, 3, 1, 2, 0, 3, 2, 2, 0, 3, 2, 3, 1, 2, 2, 3, 1, 2, 2, 3, 2, 3, 1, 2, 2, 0, 0, 3, 1, 2, 3, 2, 3, 2, 3, 2, 0, 3, 2, 0, 3, 2, 2, 1, 2, 1, 2, 0, 3, 2, 1, 2, 2, 0, 2, 3, 2, 0, 3, 1, 2, 0, 3, 2, 0, 0, 3, 1, 2, 1, 2, 0, 3, 2, 0, 3, 1, 2, 0, 3, 1, 2, 2, 0, 3, 1, 2, 3, 1, 2, 0, 3, 2, 3, 2, 2, 2, 3, 1, 2, 2, 1, 2, 0, 3, 2, 2, 2, 1, 1, 2, 2, 0, 3, 2, 0, 3, 1, 2, 0, 1, 2, 3, 1, 2, 2, 0, 3, 1, 2, 0, 3, 2, 0, 3, 2, 0, 3, 1, 2, 0, 0, 3, 2, 0, 3, 2, 2, 3, 2, 2, 0, 3, 1, 2, 2, 1, 1, 2, 2, 0, 0, 3, 1, 1, 2, 2, 0, 3, 1, 2, 0, 0, 3, 2, 0, 3, 1, 2, 2, 1, 2, 0, 1, 2, 2, 3, 1, 2, 0, 3, 2, 3, 1, 2, 2, 0, 3, 2, 2, 0, 3, 2, 0, 0, 3, 3, 2, 3, 1, 2, 2, 3, 1, 2, 2, 0, 3, 1, 2, 3, 3, 2, 0, 3, 1, 2, 3, 1, 2, 0, 3, 1, 2, 2, 0, 1, 2, 2, 0, 0, 3, 1, 2, 0, 1, 2, 2, 0, 2, 0, 0, 3, 1, 2, 0, 2, 0, 1, 1, 2, 2]\n"
     ]
    }
   ],
   "source": [
    "# Relabel emotions numerically\n",
    "for i in range(len(label)):\n",
    "    if label[i] == 'W': # anger\n",
    "        label[i] = 2\n",
    "    if label[i] == 'N': # neutral\n",
    "        label[i] = 3\n",
    "    if label[i] == 'F': # happiness\n",
    "        label[i] = 0\n",
    "    if label[i] == 'T': # sadness\n",
    "        label[i] = 1\n",
    "print(label)"
   ]
  },
  {
   "cell_type": "code",
   "execution_count": 90,
   "id": "dbddf054",
   "metadata": {},
   "outputs": [
    {
     "data": {
      "text/plain": [
       "(339, 18, 259)"
      ]
     },
     "execution_count": 90,
     "metadata": {},
     "output_type": "execute_result"
    }
   ],
   "source": [
    "data = np.array(data)\n",
    "data.shape"
   ]
  },
  {
   "cell_type": "code",
   "execution_count": 91,
   "id": "1acf8ec0",
   "metadata": {},
   "outputs": [
    {
     "data": {
      "text/plain": [
       "(339, 18, 259, 1)"
      ]
     },
     "execution_count": 91,
     "metadata": {},
     "output_type": "execute_result"
    }
   ],
   "source": [
    "# Reshape to fit CNN\n",
    "X = np.expand_dims(data, axis =3)\n",
    "X.shape"
   ]
  },
  {
   "cell_type": "code",
   "execution_count": 93,
   "id": "3320ccb6",
   "metadata": {},
   "outputs": [],
   "source": [
    "# Split data for training and testing 80/20\n",
    "x_train, x_test, y_train, y_test = train_test_split(X, label, test_size = 0.2)"
   ]
  },
  {
   "cell_type": "code",
   "execution_count": 94,
   "id": "d56cd6f4",
   "metadata": {},
   "outputs": [
    {
     "name": "stdout",
     "output_type": "stream",
     "text": [
      "(271,)\n"
     ]
    }
   ],
   "source": [
    "# Convert data to np arrays\n",
    "X_train = np.array(x_train)\n",
    "X_test = np.array(x_test)\n",
    "Y_train = np.array(y_train)\n",
    "Y_test = np.array(y_test)\n",
    "print(Y_train.shape)"
   ]
  },
  {
   "cell_type": "code",
   "execution_count": 157,
   "id": "ea74666b",
   "metadata": {},
   "outputs": [
    {
     "name": "stdout",
     "output_type": "stream",
     "text": [
      "Model: \"sequential_3\"\n",
      "_________________________________________________________________\n",
      " Layer (type)                Output Shape              Param #   \n",
      "=================================================================\n",
      " conv2d_12 (Conv2D)          (None, 18, 259, 64)       640       \n",
      "                                                                 \n",
      " batch_normalization_15 (Bat  (None, 18, 259, 64)      256       \n",
      " chNormalization)                                                \n",
      "                                                                 \n",
      " conv2d_13 (Conv2D)          (None, 18, 259, 64)       36928     \n",
      "                                                                 \n",
      " batch_normalization_16 (Bat  (None, 18, 259, 64)      256       \n",
      " chNormalization)                                                \n",
      "                                                                 \n",
      " max_pooling2d_6 (MaxPooling  (None, 9, 129, 64)       0         \n",
      " 2D)                                                             \n",
      "                                                                 \n",
      " dropout_9 (Dropout)         (None, 9, 129, 64)        0         \n",
      "                                                                 \n",
      " conv2d_14 (Conv2D)          (None, 9, 129, 128)       73856     \n",
      "                                                                 \n",
      " batch_normalization_17 (Bat  (None, 9, 129, 128)      512       \n",
      " chNormalization)                                                \n",
      "                                                                 \n",
      " conv2d_15 (Conv2D)          (None, 9, 129, 128)       147584    \n",
      "                                                                 \n",
      " batch_normalization_18 (Bat  (None, 9, 129, 128)      512       \n",
      " chNormalization)                                                \n",
      "                                                                 \n",
      " max_pooling2d_7 (MaxPooling  (None, 4, 64, 128)       0         \n",
      " 2D)                                                             \n",
      "                                                                 \n",
      " dropout_10 (Dropout)        (None, 4, 64, 128)        0         \n",
      "                                                                 \n",
      " flatten_3 (Flatten)         (None, 32768)             0         \n",
      "                                                                 \n",
      " dense_6 (Dense)             (None, 512)               16777728  \n",
      "                                                                 \n",
      " batch_normalization_19 (Bat  (None, 512)              2048      \n",
      " chNormalization)                                                \n",
      "                                                                 \n",
      " dropout_11 (Dropout)        (None, 512)               0         \n",
      "                                                                 \n",
      " dense_7 (Dense)             (None, 4)                 2052      \n",
      "                                                                 \n",
      "=================================================================\n",
      "Total params: 17,042,372\n",
      "Trainable params: 17,040,580\n",
      "Non-trainable params: 1,792\n",
      "_________________________________________________________________\n"
     ]
    }
   ],
   "source": [
    "model = Sequential()\n",
    "from keras.layers import BatchNormalization\n",
    "model.add(Conv2D(64, (3, 3), activation='relu', padding='same', input_shape=(18, 259, 1)))\n",
    "model.add(BatchNormalization())\n",
    "model.add(Conv2D(64, (3, 3), activation='relu', padding='same'))\n",
    "model.add(BatchNormalization())\n",
    "model.add(MaxPooling2D(pool_size=(2, 2)))\n",
    "model.add(Dropout(0.25))\n",
    "\n",
    "model.add(Conv2D(128, (3, 3), activation='relu', padding='same'))\n",
    "model.add(BatchNormalization())\n",
    "model.add(Conv2D(128, (3, 3), activation='relu', padding='same'))\n",
    "model.add(BatchNormalization())\n",
    "model.add(MaxPooling2D(pool_size=(2, 2)))\n",
    "model.add(Dropout(0.25))\n",
    "\n",
    "model.add(Flatten())\n",
    "model.add(Dense(512, activation='relu'))\n",
    "model.add(BatchNormalization())\n",
    "model.add(Dropout(0.5))\n",
    "model.add(Dense(units=4, activation='softmax'))\n",
    "\n",
    "model.summary()"
   ]
  },
  {
   "cell_type": "code",
   "execution_count": 121,
   "id": "df7f82fd",
   "metadata": {
    "scrolled": false
   },
   "outputs": [
    {
     "name": "stdout",
     "output_type": "stream",
     "text": [
      "9/9 [==============================] - 51s 4s/step - loss: 1.3294 - accuracy: 0.5609 - val_loss: 96.9115 - val_accuracy: 0.1912\n",
      "3/3 [==============================] - 2s 463ms/step - loss: 96.9115 - accuracy: 0.1912\n",
      "1\n",
      "Epoch 1/2\n",
      "9/9 [==============================] - 33s 4s/step - loss: 0.4525 - accuracy: 0.8303 - val_loss: 43.7510 - val_accuracy: 0.1912\n",
      "Epoch 2/2\n",
      "9/9 [==============================] - 30s 3s/step - loss: 0.2596 - accuracy: 0.9004 - val_loss: 30.6008 - val_accuracy: 0.1912\n",
      "3/3 [==============================] - 2s 451ms/step - loss: 30.6008 - accuracy: 0.1912\n",
      "2\n",
      "Epoch 1/3\n",
      "9/9 [==============================] - 30s 3s/step - loss: 0.1931 - accuracy: 0.9225 - val_loss: 20.7967 - val_accuracy: 0.1912\n",
      "Epoch 2/3\n",
      "9/9 [==============================] - 29s 3s/step - loss: 0.0811 - accuracy: 0.9705 - val_loss: 11.1321 - val_accuracy: 0.1912\n",
      "Epoch 3/3\n",
      "9/9 [==============================] - 29s 3s/step - loss: 0.0792 - accuracy: 0.9742 - val_loss: 9.4321 - val_accuracy: 0.1912\n",
      "3/3 [==============================] - 2s 532ms/step - loss: 9.4321 - accuracy: 0.1912\n",
      "3\n",
      "Epoch 1/4\n",
      "9/9 [==============================] - 30s 3s/step - loss: 0.0819 - accuracy: 0.9742 - val_loss: 8.8931 - val_accuracy: 0.1912\n",
      "Epoch 2/4\n",
      "9/9 [==============================] - 29s 3s/step - loss: 0.0784 - accuracy: 0.9705 - val_loss: 3.2594 - val_accuracy: 0.4118\n",
      "Epoch 3/4\n",
      "9/9 [==============================] - 30s 3s/step - loss: 0.1012 - accuracy: 0.9520 - val_loss: 2.6427 - val_accuracy: 0.6471\n",
      "Epoch 4/4\n",
      "9/9 [==============================] - 31s 3s/step - loss: 0.0808 - accuracy: 0.9742 - val_loss: 3.7245 - val_accuracy: 0.6029\n",
      "3/3 [==============================] - 2s 446ms/step - loss: 3.7245 - accuracy: 0.6029\n",
      "4\n",
      "Epoch 1/5\n",
      "9/9 [==============================] - 30s 3s/step - loss: 0.0477 - accuracy: 0.9889 - val_loss: 3.7500 - val_accuracy: 0.6029\n",
      "Epoch 2/5\n",
      "9/9 [==============================] - 29s 3s/step - loss: 0.0470 - accuracy: 0.9889 - val_loss: 2.8855 - val_accuracy: 0.6176\n",
      "Epoch 3/5\n",
      "9/9 [==============================] - 35s 4s/step - loss: 0.0271 - accuracy: 0.9926 - val_loss: 2.4185 - val_accuracy: 0.6324\n",
      "Epoch 4/5\n",
      "9/9 [==============================] - 26s 3s/step - loss: 0.0181 - accuracy: 0.9963 - val_loss: 2.5438 - val_accuracy: 0.6176\n",
      "Epoch 5/5\n",
      "9/9 [==============================] - 26s 3s/step - loss: 0.0378 - accuracy: 0.9852 - val_loss: 2.0231 - val_accuracy: 0.6324\n",
      "3/3 [==============================] - 1s 380ms/step - loss: 2.0231 - accuracy: 0.6324\n",
      "5\n",
      "Epoch 1/6\n",
      "9/9 [==============================] - 25s 3s/step - loss: 0.0217 - accuracy: 0.9926 - val_loss: 1.5165 - val_accuracy: 0.6324\n",
      "Epoch 2/6\n",
      "9/9 [==============================] - 25s 3s/step - loss: 0.0259 - accuracy: 0.9889 - val_loss: 1.7649 - val_accuracy: 0.6324\n",
      "Epoch 3/6\n",
      "9/9 [==============================] - 32s 4s/step - loss: 0.0088 - accuracy: 1.0000 - val_loss: 1.5706 - val_accuracy: 0.6324\n",
      "Epoch 4/6\n",
      "9/9 [==============================] - 33s 4s/step - loss: 0.0046 - accuracy: 1.0000 - val_loss: 1.1743 - val_accuracy: 0.6618\n",
      "Epoch 5/6\n",
      "9/9 [==============================] - 40s 4s/step - loss: 0.0107 - accuracy: 1.0000 - val_loss: 1.1928 - val_accuracy: 0.6912\n",
      "Epoch 6/6\n",
      "9/9 [==============================] - 46s 5s/step - loss: 0.0087 - accuracy: 1.0000 - val_loss: 1.0158 - val_accuracy: 0.6912\n",
      "3/3 [==============================] - 2s 581ms/step - loss: 1.0158 - accuracy: 0.6912\n",
      "6\n",
      "Epoch 1/8\n",
      "9/9 [==============================] - 38s 4s/step - loss: 0.0194 - accuracy: 0.9889 - val_loss: 0.7192 - val_accuracy: 0.7941\n",
      "Epoch 2/8\n",
      "9/9 [==============================] - 34s 4s/step - loss: 0.0182 - accuracy: 0.9963 - val_loss: 0.7435 - val_accuracy: 0.7941\n",
      "Epoch 3/8\n",
      "9/9 [==============================] - 32s 4s/step - loss: 0.0248 - accuracy: 0.9889 - val_loss: 0.8704 - val_accuracy: 0.7647\n",
      "Epoch 4/8\n",
      "9/9 [==============================] - 30s 3s/step - loss: 0.0111 - accuracy: 0.9963 - val_loss: 0.7951 - val_accuracy: 0.7353\n",
      "Epoch 5/8\n",
      "9/9 [==============================] - 28s 3s/step - loss: 0.0122 - accuracy: 0.9963 - val_loss: 0.8889 - val_accuracy: 0.7500\n",
      "Epoch 6/8\n",
      "9/9 [==============================] - 29s 3s/step - loss: 0.0029 - accuracy: 1.0000 - val_loss: 1.0279 - val_accuracy: 0.7647\n",
      "Epoch 7/8\n",
      "9/9 [==============================] - 29s 3s/step - loss: 0.0068 - accuracy: 0.9963 - val_loss: 0.8469 - val_accuracy: 0.7647\n",
      "Epoch 8/8\n",
      "9/9 [==============================] - 53s 6s/step - loss: 0.0034 - accuracy: 1.0000 - val_loss: 0.5188 - val_accuracy: 0.8235\n",
      "3/3 [==============================] - 6s 1s/step - loss: 0.5188 - accuracy: 0.8235\n",
      "7\n",
      "Epoch 1/10\n",
      "9/9 [==============================] - 31s 3s/step - loss: 0.0044 - accuracy: 1.0000 - val_loss: 0.5343 - val_accuracy: 0.8235\n",
      "Epoch 2/10\n",
      "9/9 [==============================] - 25s 3s/step - loss: 0.0078 - accuracy: 0.9963 - val_loss: 0.6486 - val_accuracy: 0.7794\n",
      "Epoch 3/10\n",
      "9/9 [==============================] - 30s 3s/step - loss: 0.0233 - accuracy: 0.9926 - val_loss: 0.9811 - val_accuracy: 0.7647\n",
      "Epoch 4/10\n",
      "9/9 [==============================] - 32s 4s/step - loss: 0.0244 - accuracy: 0.9963 - val_loss: 0.7342 - val_accuracy: 0.7941\n",
      "Epoch 5/10\n",
      "9/9 [==============================] - 30s 3s/step - loss: 0.0370 - accuracy: 0.9889 - val_loss: 1.5262 - val_accuracy: 0.6029\n",
      "Epoch 6/10\n",
      "9/9 [==============================] - 41s 5s/step - loss: 0.0299 - accuracy: 0.9889 - val_loss: 2.1787 - val_accuracy: 0.5294\n",
      "Epoch 7/10\n",
      "9/9 [==============================] - 37s 4s/step - loss: 0.0231 - accuracy: 0.9889 - val_loss: 1.7115 - val_accuracy: 0.6324\n",
      "Epoch 8/10\n",
      "9/9 [==============================] - 30s 3s/step - loss: 0.0067 - accuracy: 1.0000 - val_loss: 1.2506 - val_accuracy: 0.7206\n",
      "Epoch 9/10\n",
      "9/9 [==============================] - 30s 3s/step - loss: 0.0396 - accuracy: 0.9889 - val_loss: 1.4149 - val_accuracy: 0.6618\n",
      "Epoch 10/10\n",
      "9/9 [==============================] - 31s 3s/step - loss: 0.0134 - accuracy: 0.9963 - val_loss: 1.7085 - val_accuracy: 0.6029\n",
      "3/3 [==============================] - 2s 453ms/step - loss: 1.7085 - accuracy: 0.6029\n",
      "8\n",
      "Epoch 1/14\n",
      "9/9 [==============================] - 29s 3s/step - loss: 0.0142 - accuracy: 0.9963 - val_loss: 0.7757 - val_accuracy: 0.7500\n",
      "Epoch 2/14\n",
      "9/9 [==============================] - 28s 3s/step - loss: 0.0041 - accuracy: 1.0000 - val_loss: 0.6908 - val_accuracy: 0.7941\n",
      "Epoch 3/14\n",
      "9/9 [==============================] - 36s 4s/step - loss: 0.0172 - accuracy: 0.9963 - val_loss: 0.7933 - val_accuracy: 0.7206\n",
      "Epoch 4/14\n",
      "9/9 [==============================] - 31s 3s/step - loss: 0.0080 - accuracy: 1.0000 - val_loss: 1.3330 - val_accuracy: 0.7353\n",
      "Epoch 5/14\n",
      "9/9 [==============================] - 35s 4s/step - loss: 0.0131 - accuracy: 0.9963 - val_loss: 1.5223 - val_accuracy: 0.7353\n",
      "Epoch 6/14\n",
      "9/9 [==============================] - 34s 4s/step - loss: 0.0328 - accuracy: 0.9889 - val_loss: 1.9788 - val_accuracy: 0.6471\n",
      "Epoch 7/14\n",
      "9/9 [==============================] - 31s 3s/step - loss: 0.0809 - accuracy: 0.9779 - val_loss: 2.2818 - val_accuracy: 0.5735\n",
      "Epoch 8/14\n",
      "9/9 [==============================] - 35s 4s/step - loss: 0.0239 - accuracy: 0.9926 - val_loss: 1.6994 - val_accuracy: 0.6912\n",
      "Epoch 9/14\n",
      "9/9 [==============================] - 30s 3s/step - loss: 0.0529 - accuracy: 0.9889 - val_loss: 1.6941 - val_accuracy: 0.6618\n",
      "Epoch 10/14\n",
      "9/9 [==============================] - 29s 3s/step - loss: 0.0258 - accuracy: 0.9926 - val_loss: 0.9304 - val_accuracy: 0.7647\n",
      "Epoch 11/14\n",
      "9/9 [==============================] - 26s 3s/step - loss: 0.0301 - accuracy: 0.9815 - val_loss: 1.5105 - val_accuracy: 0.6765\n",
      "Epoch 12/14\n",
      "9/9 [==============================] - 26s 3s/step - loss: 0.0560 - accuracy: 0.9889 - val_loss: 1.4959 - val_accuracy: 0.7059\n",
      "Epoch 13/14\n",
      "9/9 [==============================] - 29s 3s/step - loss: 0.0143 - accuracy: 1.0000 - val_loss: 1.4414 - val_accuracy: 0.6765\n",
      "Epoch 14/14\n",
      "9/9 [==============================] - 29s 3s/step - loss: 0.0328 - accuracy: 0.9889 - val_loss: 1.0673 - val_accuracy: 0.7647\n",
      "3/3 [==============================] - 2s 452ms/step - loss: 1.0673 - accuracy: 0.7647\n",
      "9\n",
      "Epoch 1/16\n",
      "9/9 [==============================] - 26s 3s/step - loss: 0.0080 - accuracy: 0.9963 - val_loss: 0.9503 - val_accuracy: 0.7941\n"
     ]
    },
    {
     "name": "stdout",
     "output_type": "stream",
     "text": [
      "Epoch 2/16\n",
      "9/9 [==============================] - 29s 3s/step - loss: 0.0100 - accuracy: 0.9963 - val_loss: 0.8113 - val_accuracy: 0.8382\n",
      "Epoch 3/16\n",
      "9/9 [==============================] - 30s 3s/step - loss: 0.0146 - accuracy: 0.9963 - val_loss: 0.7207 - val_accuracy: 0.8382\n",
      "Epoch 4/16\n",
      "9/9 [==============================] - 44s 5s/step - loss: 0.0053 - accuracy: 1.0000 - val_loss: 0.9346 - val_accuracy: 0.7794\n",
      "Epoch 5/16\n",
      "9/9 [==============================] - 37s 4s/step - loss: 0.0037 - accuracy: 1.0000 - val_loss: 1.0901 - val_accuracy: 0.7500\n",
      "Epoch 6/16\n",
      "9/9 [==============================] - 29s 3s/step - loss: 0.0029 - accuracy: 1.0000 - val_loss: 1.0770 - val_accuracy: 0.7647\n",
      "Epoch 7/16\n",
      "9/9 [==============================] - 30s 3s/step - loss: 0.0025 - accuracy: 1.0000 - val_loss: 0.9818 - val_accuracy: 0.7647\n",
      "Epoch 8/16\n",
      "9/9 [==============================] - 31s 3s/step - loss: 9.5662e-04 - accuracy: 1.0000 - val_loss: 0.8190 - val_accuracy: 0.7794\n",
      "Epoch 9/16\n",
      "9/9 [==============================] - 33s 4s/step - loss: 0.0020 - accuracy: 1.0000 - val_loss: 0.7483 - val_accuracy: 0.8235\n",
      "Epoch 10/16\n",
      "9/9 [==============================] - 34s 4s/step - loss: 0.0027 - accuracy: 1.0000 - val_loss: 0.6881 - val_accuracy: 0.8382\n",
      "Epoch 11/16\n",
      "9/9 [==============================] - 32s 4s/step - loss: 0.0095 - accuracy: 0.9963 - val_loss: 0.7416 - val_accuracy: 0.7941\n",
      "Epoch 12/16\n",
      "9/9 [==============================] - 33s 4s/step - loss: 0.0019 - accuracy: 1.0000 - val_loss: 1.5698 - val_accuracy: 0.7206\n",
      "Epoch 13/16\n",
      "9/9 [==============================] - 33s 4s/step - loss: 0.0107 - accuracy: 0.9926 - val_loss: 1.1127 - val_accuracy: 0.7647\n",
      "Epoch 14/16\n",
      "9/9 [==============================] - 34s 4s/step - loss: 0.0055 - accuracy: 1.0000 - val_loss: 0.8086 - val_accuracy: 0.8088\n",
      "Epoch 15/16\n",
      "9/9 [==============================] - 32s 4s/step - loss: 0.0022 - accuracy: 1.0000 - val_loss: 0.6732 - val_accuracy: 0.8235\n",
      "Epoch 16/16\n",
      "9/9 [==============================] - 35s 4s/step - loss: 0.0016 - accuracy: 1.0000 - val_loss: 0.6420 - val_accuracy: 0.8382\n",
      "3/3 [==============================] - 2s 481ms/step - loss: 0.6420 - accuracy: 0.8382\n",
      "10\n",
      "Epoch 1/18\n",
      "9/9 [==============================] - 33s 4s/step - loss: 0.0027 - accuracy: 1.0000 - val_loss: 0.6334 - val_accuracy: 0.8529\n",
      "Epoch 2/18\n",
      "9/9 [==============================] - 30s 3s/step - loss: 0.0029 - accuracy: 1.0000 - val_loss: 0.6641 - val_accuracy: 0.8235\n",
      "Epoch 3/18\n",
      "9/9 [==============================] - 33s 4s/step - loss: 8.6243e-04 - accuracy: 1.0000 - val_loss: 0.7004 - val_accuracy: 0.8235\n",
      "Epoch 4/18\n",
      "9/9 [==============================] - 33s 4s/step - loss: 0.0025 - accuracy: 1.0000 - val_loss: 0.6707 - val_accuracy: 0.8088\n",
      "Epoch 5/18\n",
      "9/9 [==============================] - 34s 4s/step - loss: 0.0027 - accuracy: 1.0000 - val_loss: 0.6918 - val_accuracy: 0.8088\n",
      "Epoch 6/18\n",
      "9/9 [==============================] - 37s 4s/step - loss: 0.0045 - accuracy: 1.0000 - val_loss: 0.6719 - val_accuracy: 0.8088\n",
      "Epoch 7/18\n",
      "9/9 [==============================] - 33s 4s/step - loss: 0.0020 - accuracy: 1.0000 - val_loss: 0.7974 - val_accuracy: 0.7353\n",
      "Epoch 8/18\n",
      "9/9 [==============================] - 33s 4s/step - loss: 0.0016 - accuracy: 1.0000 - val_loss: 0.7907 - val_accuracy: 0.7353\n",
      "Epoch 9/18\n",
      "9/9 [==============================] - 32s 3s/step - loss: 0.0011 - accuracy: 1.0000 - val_loss: 0.6920 - val_accuracy: 0.7794\n",
      "Epoch 10/18\n",
      "9/9 [==============================] - 33s 4s/step - loss: 0.0016 - accuracy: 1.0000 - val_loss: 0.6321 - val_accuracy: 0.8088\n",
      "Epoch 11/18\n",
      "9/9 [==============================] - 36s 4s/step - loss: 0.0027 - accuracy: 1.0000 - val_loss: 0.6088 - val_accuracy: 0.8529\n",
      "Epoch 12/18\n",
      "9/9 [==============================] - 31s 3s/step - loss: 0.0020 - accuracy: 1.0000 - val_loss: 0.6362 - val_accuracy: 0.8676\n",
      "Epoch 13/18\n",
      "9/9 [==============================] - 29s 3s/step - loss: 0.0012 - accuracy: 1.0000 - val_loss: 0.6350 - val_accuracy: 0.8529\n",
      "Epoch 14/18\n",
      "9/9 [==============================] - 29s 3s/step - loss: 4.5949e-04 - accuracy: 1.0000 - val_loss: 0.6443 - val_accuracy: 0.8529\n",
      "Epoch 15/18\n",
      "9/9 [==============================] - 29s 3s/step - loss: 0.0015 - accuracy: 1.0000 - val_loss: 0.6446 - val_accuracy: 0.8382\n",
      "Epoch 16/18\n",
      "9/9 [==============================] - 29s 3s/step - loss: 0.0046 - accuracy: 1.0000 - val_loss: 0.7137 - val_accuracy: 0.8382\n",
      "Epoch 17/18\n",
      "9/9 [==============================] - 28s 3s/step - loss: 7.6875e-04 - accuracy: 1.0000 - val_loss: 0.7877 - val_accuracy: 0.8088\n",
      "Epoch 18/18\n",
      "9/9 [==============================] - 28s 3s/step - loss: 7.0150e-04 - accuracy: 1.0000 - val_loss: 0.7675 - val_accuracy: 0.8088\n",
      "3/3 [==============================] - 2s 438ms/step - loss: 0.7675 - accuracy: 0.8088\n",
      "11\n",
      "Epoch 1/20\n",
      "9/9 [==============================] - 28s 3s/step - loss: 4.3723e-04 - accuracy: 1.0000 - val_loss: 0.7231 - val_accuracy: 0.8235\n",
      "Epoch 2/20\n",
      "9/9 [==============================] - 28s 3s/step - loss: 9.6671e-04 - accuracy: 1.0000 - val_loss: 0.7003 - val_accuracy: 0.8382\n",
      "Epoch 3/20\n",
      "9/9 [==============================] - 31s 3s/step - loss: 1.7326e-04 - accuracy: 1.0000 - val_loss: 0.6864 - val_accuracy: 0.8676\n",
      "Epoch 4/20\n",
      "9/9 [==============================] - 29s 3s/step - loss: 5.0226e-04 - accuracy: 1.0000 - val_loss: 0.6643 - val_accuracy: 0.8676\n",
      "Epoch 5/20\n",
      "9/9 [==============================] - 28s 3s/step - loss: 4.1081e-04 - accuracy: 1.0000 - val_loss: 0.6611 - val_accuracy: 0.8676\n",
      "Epoch 6/20\n",
      "9/9 [==============================] - 28s 3s/step - loss: 3.9862e-04 - accuracy: 1.0000 - val_loss: 0.6505 - val_accuracy: 0.8676\n",
      "Epoch 7/20\n",
      "9/9 [==============================] - 31s 3s/step - loss: 4.4588e-04 - accuracy: 1.0000 - val_loss: 0.6425 - val_accuracy: 0.8529\n",
      "Epoch 8/20\n",
      "9/9 [==============================] - 31s 3s/step - loss: 6.1426e-04 - accuracy: 1.0000 - val_loss: 0.6397 - val_accuracy: 0.8529\n",
      "Epoch 9/20\n",
      "9/9 [==============================] - 27s 3s/step - loss: 5.2262e-04 - accuracy: 1.0000 - val_loss: 0.6435 - val_accuracy: 0.8529\n",
      "Epoch 10/20\n",
      "9/9 [==============================] - 32s 4s/step - loss: 2.7576e-04 - accuracy: 1.0000 - val_loss: 0.6463 - val_accuracy: 0.8529\n",
      "Epoch 11/20\n",
      "9/9 [==============================] - 28s 3s/step - loss: 2.6456e-04 - accuracy: 1.0000 - val_loss: 0.6477 - val_accuracy: 0.8529\n",
      "Epoch 12/20\n",
      "9/9 [==============================] - 32s 4s/step - loss: 0.0022 - accuracy: 1.0000 - val_loss: 0.6648 - val_accuracy: 0.8382\n",
      "Epoch 13/20\n",
      "9/9 [==============================] - 32s 4s/step - loss: 3.2412e-04 - accuracy: 1.0000 - val_loss: 1.3526 - val_accuracy: 0.7647\n",
      "Epoch 14/20\n",
      "9/9 [==============================] - 31s 3s/step - loss: 0.0034 - accuracy: 1.0000 - val_loss: 0.9333 - val_accuracy: 0.7941\n",
      "Epoch 15/20\n",
      "9/9 [==============================] - 27s 3s/step - loss: 0.0020 - accuracy: 1.0000 - val_loss: 0.7809 - val_accuracy: 0.8235\n",
      "Epoch 16/20\n",
      "9/9 [==============================] - 33s 4s/step - loss: 3.9032e-04 - accuracy: 1.0000 - val_loss: 0.7213 - val_accuracy: 0.8529\n",
      "Epoch 17/20\n",
      "9/9 [==============================] - 35s 4s/step - loss: 7.7332e-04 - accuracy: 1.0000 - val_loss: 0.6773 - val_accuracy: 0.8382\n",
      "Epoch 18/20\n",
      "9/9 [==============================] - 48s 4s/step - loss: 4.4320e-04 - accuracy: 1.0000 - val_loss: 0.6506 - val_accuracy: 0.8382\n",
      "Epoch 19/20\n",
      "9/9 [==============================] - 30s 3s/step - loss: 4.8912e-04 - accuracy: 1.0000 - val_loss: 0.6401 - val_accuracy: 0.8235\n",
      "Epoch 20/20\n",
      "9/9 [==============================] - 46s 5s/step - loss: 9.2537e-04 - accuracy: 1.0000 - val_loss: 0.6295 - val_accuracy: 0.8235\n",
      "3/3 [==============================] - 5s 2s/step - loss: 0.6295 - accuracy: 0.8235\n",
      "12\n",
      "Epoch 1/24\n",
      "9/9 [==============================] - 59s 7s/step - loss: 8.6865e-04 - accuracy: 1.0000 - val_loss: 0.6017 - val_accuracy: 0.8235\n",
      "Epoch 2/24\n",
      "9/9 [==============================] - 62s 7s/step - loss: 0.0016 - accuracy: 1.0000 - val_loss: 0.5730 - val_accuracy: 0.8529\n",
      "Epoch 3/24\n",
      "9/9 [==============================] - 66s 7s/step - loss: 7.0393e-04 - accuracy: 1.0000 - val_loss: 0.5814 - val_accuracy: 0.8529\n",
      "Epoch 4/24\n",
      "9/9 [==============================] - 44s 5s/step - loss: 0.0018 - accuracy: 1.0000 - val_loss: 0.5973 - val_accuracy: 0.8676\n",
      "Epoch 5/24\n",
      "9/9 [==============================] - 36s 4s/step - loss: 0.0019 - accuracy: 1.0000 - val_loss: 0.6625 - val_accuracy: 0.8529\n",
      "Epoch 6/24\n",
      "9/9 [==============================] - 38s 4s/step - loss: 0.0028 - accuracy: 1.0000 - val_loss: 0.7548 - val_accuracy: 0.7941\n",
      "Epoch 7/24\n",
      "9/9 [==============================] - 32s 4s/step - loss: 8.8305e-04 - accuracy: 1.0000 - val_loss: 0.8083 - val_accuracy: 0.7941\n",
      "Epoch 8/24\n",
      "9/9 [==============================] - 35s 4s/step - loss: 4.7044e-04 - accuracy: 1.0000 - val_loss: 0.8289 - val_accuracy: 0.8088\n",
      "Epoch 9/24\n",
      "9/9 [==============================] - 44s 5s/step - loss: 5.1685e-04 - accuracy: 1.0000 - val_loss: 0.8158 - val_accuracy: 0.8088\n",
      "Epoch 10/24\n",
      "9/9 [==============================] - 65s 7s/step - loss: 2.8967e-04 - accuracy: 1.0000 - val_loss: 0.7892 - val_accuracy: 0.8235\n",
      "Epoch 11/24\n",
      "9/9 [==============================] - 61s 7s/step - loss: 4.5210e-04 - accuracy: 1.0000 - val_loss: 0.7353 - val_accuracy: 0.8235\n",
      "Epoch 12/24\n",
      "9/9 [==============================] - 68s 8s/step - loss: 4.6264e-04 - accuracy: 1.0000 - val_loss: 0.6929 - val_accuracy: 0.8235\n",
      "Epoch 13/24\n",
      "9/9 [==============================] - 68s 8s/step - loss: 2.9966e-04 - accuracy: 1.0000 - val_loss: 0.6543 - val_accuracy: 0.8382\n",
      "Epoch 14/24\n",
      "9/9 [==============================] - 73s 8s/step - loss: 2.6856e-04 - accuracy: 1.0000 - val_loss: 0.6337 - val_accuracy: 0.8529\n",
      "Epoch 15/24\n",
      "9/9 [==============================] - 68s 7s/step - loss: 0.0025 - accuracy: 1.0000 - val_loss: 0.6081 - val_accuracy: 0.8382\n",
      "Epoch 16/24\n",
      "9/9 [==============================] - 67s 7s/step - loss: 2.9741e-04 - accuracy: 1.0000 - val_loss: 0.6894 - val_accuracy: 0.7941\n",
      "Epoch 17/24\n",
      "9/9 [==============================] - 70s 8s/step - loss: 6.0118e-04 - accuracy: 1.0000 - val_loss: 0.7181 - val_accuracy: 0.7794\n",
      "Epoch 18/24\n",
      "9/9 [==============================] - 76s 8s/step - loss: 0.0017 - accuracy: 1.0000 - val_loss: 0.6974 - val_accuracy: 0.8088\n",
      "Epoch 19/24\n",
      "9/9 [==============================] - 72s 8s/step - loss: 2.1875e-04 - accuracy: 1.0000 - val_loss: 0.6696 - val_accuracy: 0.8088\n",
      "Epoch 20/24\n",
      "9/9 [==============================] - 69s 8s/step - loss: 5.6873e-04 - accuracy: 1.0000 - val_loss: 0.6225 - val_accuracy: 0.8382\n",
      "Epoch 21/24\n",
      "9/9 [==============================] - 69s 8s/step - loss: 5.0449e-04 - accuracy: 1.0000 - val_loss: 0.5644 - val_accuracy: 0.8529\n",
      "Epoch 22/24\n",
      "9/9 [==============================] - 75s 8s/step - loss: 0.0124 - accuracy: 0.9926 - val_loss: 0.5671 - val_accuracy: 0.8676\n",
      "Epoch 23/24\n",
      "9/9 [==============================] - 66s 8s/step - loss: 0.0116 - accuracy: 0.9926 - val_loss: 5.3546 - val_accuracy: 0.5294\n",
      "Epoch 24/24\n",
      "9/9 [==============================] - 65s 7s/step - loss: 0.0142 - accuracy: 0.9926 - val_loss: 13.8038 - val_accuracy: 0.2941\n",
      "3/3 [==============================] - 9s 3s/step - loss: 13.8038 - accuracy: 0.2941\n",
      "13\n",
      "Loop Completed\n",
      "3/3 [==============================] - 4s 908ms/step - loss: 0.6420 - accuracy: 0.8382\n",
      "Best epoch: 23 with validation accuracy: 0.8382353186607361\n",
      "Test loss: 0.6420060396194458 Test accuracy: 0.8382353186607361\n"
     ]
    }
   ],
   "source": [
    "best_val_acc = 0.0\n",
    "best_epoch = None\n",
    "num_epochs = 24\n",
    "count = 0\n",
    "Epoch_list = [1, 2 ,3,4,5,6, 8, 10, 14, 16, 18, 20, 24]\n",
    "HistoryData = []\n",
    "Val_loss_Data = []\n",
    "Val_Acc_Data = []\n",
    "model.compile(loss='sparse_categorical_crossentropy', optimizer='adam', metrics=['accuracy'])\n",
    "for Loop_Var in Epoch_list:\n",
    "    # Train the model for one epoch\n",
    "    history = model.fit(X_train, Y_train, batch_size=32 , epochs=Loop_Var , verbose=1, validation_data=(X_test, Y_test))\n",
    "    HistoryData.append(history)\n",
    "\n",
    "    # Evaluate the model on the validation set\n",
    "    val_loss, val_acc = model.evaluate(X_test, Y_test, batch_size=32, verbose=1)\n",
    "    Val_loss_Data.append(val_loss)\n",
    "    Val_Acc_Data.append(val_acc)\n",
    "\n",
    "    # Check if this epoch had the best validation accuracy so far\n",
    "    if val_acc > best_val_acc:\n",
    "        best_val_acc = val_acc\n",
    "        best_epoch = Loop_Var\n",
    "        # Save the model weights for the best epoch\n",
    "        model.save_weights('best_model_weights.h5')\n",
    "    count = count + 1\n",
    "    print(count)\n",
    "print('Loop Completed')\n",
    "# Load the weights for the best epoch\n",
    "model.load_weights('best_model_weights.h5')\n",
    "\n",
    "# Evaluate the model on the test set\n",
    "test_loss, test_acc = model.evaluate(X_test, Y_test, batch_size=32, verbose=1)\n",
    "\n",
    "print(\"Best epoch: {} with validation accuracy: {}\".format(best_epoch, best_val_acc))\n",
    "print(\"Test loss: {} Test accuracy: {}\".format(test_loss, test_acc))"
   ]
  },
  {
   "cell_type": "code",
   "execution_count": 1,
   "id": "7ae6b816",
   "metadata": {},
   "outputs": [
    {
     "ename": "NameError",
     "evalue": "name 'plt' is not defined",
     "output_type": "error",
     "traceback": [
      "\u001b[1;31m---------------------------------------------------------------------------\u001b[0m",
      "\u001b[1;31mNameError\u001b[0m                                 Traceback (most recent call last)",
      "Input \u001b[1;32mIn [1]\u001b[0m, in \u001b[0;36m<cell line: 2>\u001b[1;34m()\u001b[0m\n\u001b[0;32m      1\u001b[0m \u001b[38;5;66;03m# Plot the test loss and accuracy\u001b[39;00m\n\u001b[1;32m----> 2\u001b[0m fig, ax1 \u001b[38;5;241m=\u001b[39m \u001b[43mplt\u001b[49m\u001b[38;5;241m.\u001b[39msubplots()\n\u001b[0;32m      3\u001b[0m ax1\u001b[38;5;241m.\u001b[39mplot(Epoch_list, Val_Acc_Data, label\u001b[38;5;241m=\u001b[39m\u001b[38;5;124m'\u001b[39m\u001b[38;5;124mval_acc\u001b[39m\u001b[38;5;124m'\u001b[39m, color\u001b[38;5;241m=\u001b[39m\u001b[38;5;124m'\u001b[39m\u001b[38;5;124morange\u001b[39m\u001b[38;5;124m'\u001b[39m)\n\u001b[0;32m      4\u001b[0m ax1\u001b[38;5;241m.\u001b[39mplot(best_epoch, test_acc, \u001b[38;5;124m'\u001b[39m\u001b[38;5;124mo\u001b[39m\u001b[38;5;124m'\u001b[39m, label\u001b[38;5;241m=\u001b[39m\u001b[38;5;124m'\u001b[39m\u001b[38;5;124mtest_acc\u001b[39m\u001b[38;5;124m'\u001b[39m, color\u001b[38;5;241m=\u001b[39m\u001b[38;5;124m'\u001b[39m\u001b[38;5;124morange\u001b[39m\u001b[38;5;124m'\u001b[39m)\n",
      "\u001b[1;31mNameError\u001b[0m: name 'plt' is not defined"
     ]
    }
   ],
   "source": [
    "# Plot the test loss and accuracy\n",
    "fig, ax1 = plt.subplots()\n",
    "ax1.plot(Epoch_list, Val_Acc_Data, label='val_acc', color='orange')\n",
    "ax1.plot(best_epoch, test_acc, 'o', label='test_acc', color='orange')\n",
    "ax1.legend()\n",
    "ax1.set_xlabel('Epochs')\n",
    "ax1.set_ylabel('Accuracy')\n",
    "ax1.set_title('Test Accuracy and Loss: EmoDB')\n",
    "ax2 =ax1.twinx()\n",
    "ax2.plot(Epoch_list, Val_loss_Data, label='val_loss')\n",
    "ax2.plot(24, test_loss, 'o', label='test_loss', color='blue')\n",
    "ax2.legend()\n",
    "ax2.set_xlabel('Epochs')\n",
    "ax2.set_ylabel('Loss')\n",
    "\n",
    "plt.show()\n"
   ]
  },
  {
   "cell_type": "code",
   "execution_count": 100,
   "id": "efe07e5d",
   "metadata": {},
   "outputs": [
    {
     "data": {
      "image/png": "[encoded data removed]",
      "text/plain": [
       "<Figure size 432x288 with 1 Axes>"
      ]
     },
     "metadata": {
      "needs_background": "light"
     },
     "output_type": "display_data"
    },
    {
     "data": {
      "image/png": "[encoded data removed]",
      "text/plain": [
       "<Figure size 432x288 with 1 Axes>"
      ]
     },
     "metadata": {
      "needs_background": "light"
     },
     "output_type": "display_data"
    }
   ],
   "source": [
    "import matplotlib.pyplot as plt\n",
    "import numpy as np\n",
    "from sklearn.metrics import confusion_matrix\n",
    "\n",
    "x_train = X_train\n",
    "y_train = Y_train\n",
    "x_test = X_test\n",
    "y_test = Y_test\n",
    "\n",
    "# Fit the model on training data\n",
    "#history = model.fit(x_train, y_train, epochs=10, validation_data=(x_test, y_test))\n",
    "\n",
    "# Plot accuracy and loss curves\n",
    "plt.plot(history.history['accuracy'])\n",
    "plt.plot(history.history['val_accuracy'])\n",
    "plt.title('model accuracy')\n",
    "plt.ylabel('accuracy')\n",
    "plt.xlabel('epoch')\n",
    "plt.legend(['train', 'val'], loc='upper left')\n",
    "plt.show()\n",
    "\n",
    "plt.plot(history.history['loss'])\n",
    "plt.plot(history.history['val_loss'])\n",
    "plt.title('model loss')\n",
    "plt.ylabel('loss')\n",
    "plt.xlabel('epoch')\n",
    "plt.legend(['train', 'val'], loc='upper left')\n",
    "plt.show()\n"
   ]
  },
  {
   "cell_type": "code",
   "execution_count": 147,
   "id": "e944bba6",
   "metadata": {},
   "outputs": [
    {
     "name": "stdout",
     "output_type": "stream",
     "text": [
      "3/3 [==============================] - 4s 998ms/step\n"
     ]
    },
    {
     "data": {
      "image/png": "[encoded data removed]",
      "text/plain": [
       "<Figure size 432x288 with 2 Axes>"
      ]
     },
     "metadata": {
      "needs_background": "light"
     },
     "output_type": "display_data"
    }
   ],
   "source": [
    "from sklearn.metrics import confusion_matrix\n",
    "import seaborn as sns\n",
    "import matplotlib.pyplot as plt\n",
    "\n",
    "y_pred = model.predict(x_test)\n",
    "\n",
    "# define y_true as the one-hot encoded version of the test labels\n",
    "y_true = np.zeros((len(y_test), 4)) # 4 is the number of emotions being classified\n",
    "y_true[np.arange(len(y_test)), y_test] = 1\n",
    "predicted_labels = np.argmax(y_pred, axis=1)\n",
    "\n",
    "y_pred = np.zeros((len(predicted_labels), 4)) # 4 is the number of emotions being classified\n",
    "y_pred[np.arange(len(predicted_labels)), predicted_labels] = 1\n",
    "\n",
    "\n",
    "cm = confusion_matrix(y_true.argmax(axis=1), y_pred.argmax(axis=1))\n",
    "labels = ['Happy', 'Sad', 'Angry', 'Neutral'] # replace with your own emotion labels\n",
    "\n",
    "# plot the confusion matrix as a heatmap\n",
    "sns.heatmap(cm, annot=True, fmt='d', cmap='Blues', xticklabels=labels, yticklabels=labels)\n",
    "\n",
    "# add axis labels and title\n",
    "plt.xlabel('Predicted Label')\n",
    "plt.ylabel('True Label')\n",
    "plt.title('Confusion Matrix: EmoDB')\n",
    "\n",
    "# show the plot\n",
    "plt.show()\n"
   ]
  }
 ],
 "metadata": {
  "kernelspec": {
   "display_name": "Python 3 (ipykernel)",
   "language": "python",
   "name": "python3"
  },
  "language_info": {
   "codemirror_mode": {
    "name": "ipython",
    "version": 3
   },
   "file_extension": ".py",
   "mimetype": "text/x-python",
   "name": "python",
   "nbconvert_exporter": "python",
   "pygments_lexer": "ipython3",
   "version": "3.9.12"
  }
 },
 "nbformat": 4,
 "nbformat_minor": 5
}
