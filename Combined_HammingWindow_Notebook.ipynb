{
 "cells": [
  {
   "cell_type": "code",
   "execution_count": 25,
   "id": "1684a706",
   "metadata": {},
   "outputs": [],
   "source": [
    "# Import Libraries\n",
    "import pandas as pd\n",
    "import numpy as np \n",
    "import glob\n",
    "import os\n",
    "from os.path import isfile, join\n",
    "import soundfile as sf \n",
    "import sys\n",
    "import librosa \n",
    "import librosa.display\n",
    "import seaborn as sbn\n",
    "import matplotlib.pyplot as plt \n",
    "from sklearn import metrics\n",
    "from sklearn.preprocessing import StandardScaler, OneHotEncoder\n",
    "from sklearn.metrics import confusion_matrix, classification_report \n",
    "from sklearn.model_selection import train_test_split\n",
    "from sklearn.neural_network import MLPClassifier\n",
    "from sklearn.metrics import accuracy_score\n",
    "from IPython.display import Audio\n",
    "import scipy.io.wavfile\n",
    "from scipy.fftpack import dct\n",
    "import warnings\n",
    "if not sys.warnoptions:\n",
    "    warnings.simplefilter(\"ignore\")\n",
    "warnings.filterwarnings(\"ignore\", category=DeprecationWarning)\n",
    "from tensorflow import keras\n",
    "from keras.models import Sequential\n",
    "from keras.layers import Dense, Dropout, Flatten, Conv2D, MaxPooling2D, Conv1D, MaxPooling1D\n",
    "from keras.utils import to_categorical\n",
    "from keras.callbacks import ReduceLROnPlateau"
   ]
  },
  {
   "cell_type": "code",
   "execution_count": null,
   "id": "829f147b",
   "metadata": {},
   "outputs": [],
   "source": []
  },
  {
   "cell_type": "markdown",
   "id": "578037d8",
   "metadata": {},
   "source": [
    "# PreProcessing"
   ]
  },
  {
   "cell_type": "code",
   "execution_count": 13,
   "id": "bd5f59ec",
   "metadata": {},
   "outputs": [],
   "source": [
    "# Hamming Window\n",
    "# Set paths\n",
    "home = \"C:/Users/Lenovo/Documents/3rd Year Project/Dataset/Combined_Baseline_Shortened_Cropped/\"\n",
    "destination = \"C:/Users/Lenovo/Documents/3rd Year Project/Dataset/Combined_Hamming_Shortened_Cropped/\"\n",
    "\n",
    "# Get list of all files in home directory\n",
    "homeList = os.listdir(home)\n",
    "\n",
    "# Loop through all files in home directory\n",
    "for dir in homeList:\n",
    "    # Load audio file\n",
    "    signal, sr = librosa.load(home + dir)\n",
    "    \n",
    "    # Calculate window length and hop length\n",
    "    window_length = int(sr * 0.025) # 25ms window length\n",
    "    hop_length = int(sr * 0.010) # 10ms hop length\n",
    "    \n",
    "    # Create Hamming window\n",
    "    hamming_window = hamming(window_length)\n",
    "    \n",
    "    # Pad signal to ensure it can be split into frames without overlap\n",
    "    n_frames = int(np.ceil(len(signal) / hop_length))\n",
    "    signal_length = n_frames * hop_length\n",
    "    padding = signal_length - len(signal)\n",
    "    signal_padded = np.pad(signal, (0, padding), 'constant', constant_values=0)\n",
    "    \n",
    "    # Apply Hamming window to signal using overlapping frames\n",
    "    frames = librosa.util.frame(signal_padded, frame_length=window_length, hop_length=hop_length)\n",
    "    windowed_frames = frames * hamming_window[:, np.newaxis]\n",
    "    signal_hamming = np.zeros(len(signal_padded))\n",
    "    for i in range(frames.shape[1]):\n",
    "        start = i * hop_length\n",
    "        end = start + window_length\n",
    "        signal_hamming[start:end] += windowed_frames[:, i]\n",
    "    signal_hamming = signal_hamming[:len(signal)]\n",
    "    \n",
    "    # Save the modified audio file to destination directory\n",
    "    savePath = destination + dir\n",
    "    sf.write(savePath, signal_hamming, sr)\n"
   ]
  },
  {
   "cell_type": "code",
   "execution_count": 26,
   "id": "ab50f1f9",
   "metadata": {},
   "outputs": [],
   "source": [
    "# Feature Extract MFCC\n",
    "from os import listdir\n",
    "from os.path import isfile, join\n",
    "data = []\n",
    "label = []\n",
    "Path = \"C:/Users/Lenovo/Documents/3rd Year Project/Dataset/Combined_Hamming_Shortened_Cropped/\"\n",
    "files = [f for f in listdir(Path) if isfile(join(Path, f))]\n",
    "for x in files:\n",
    "    filePath = Path + x\n",
    "    label.append(x[0])\n",
    "    signal, sr = librosa.load(filePath, sr=None)\n",
    "    #mfcc = librosa.feature.mfcc(signal, n_fft=2048, hop_length = 256, n_mfcc = 20) \n",
    "    mfcc = librosa.feature.mfcc(signal, n_fft=2048, hop_length = 256, n_mfcc = 18) \n",
    "    #mfcc_1d = np.ravel(mfcc)\n",
    "    data.append(mfcc)"
   ]
  },
  {
   "cell_type": "code",
   "execution_count": 27,
   "id": "0694df16",
   "metadata": {},
   "outputs": [
    {
     "data": {
      "text/plain": [
       "(992, 18, 259)"
      ]
     },
     "execution_count": 27,
     "metadata": {},
     "output_type": "execute_result"
    }
   ],
   "source": [
    "data = np.array(data)\n",
    "data.shape"
   ]
  },
  {
   "cell_type": "code",
   "execution_count": 28,
   "id": "8e4bb41f",
   "metadata": {},
   "outputs": [
    {
     "data": {
      "text/plain": [
       "(992, 18, 259, 1)"
      ]
     },
     "execution_count": 28,
     "metadata": {},
     "output_type": "execute_result"
    }
   ],
   "source": [
    "X = np.expand_dims(data, axis=3)\n",
    "X.shape"
   ]
  },
  {
   "cell_type": "code",
   "execution_count": 29,
   "id": "d3b26408",
   "metadata": {
    "scrolled": true
   },
   "outputs": [],
   "source": [
    "label_new = []\n",
    "for i in range(len(label)):\n",
    "    if label[i] == 'n': #Neutral\n",
    "        x=3\n",
    "    elif label[i] == 'h': #Happy\n",
    "        x=0\n",
    "    elif label[i] == 's': #S\n",
    "        x=1\n",
    "    elif label[i] == 'a': #Angry\n",
    "        x = 2\n",
    "    label_new.append(x)\n",
    "\n",
    "#print(label_new)"
   ]
  },
  {
   "cell_type": "code",
   "execution_count": 30,
   "id": "3eb3a4c5",
   "metadata": {},
   "outputs": [],
   "source": [
    "x_train, x_test, y_train, y_test = train_test_split(X, label_new, test_size = 0.2)"
   ]
  },
  {
   "cell_type": "code",
   "execution_count": 31,
   "id": "553d9cb4",
   "metadata": {},
   "outputs": [
    {
     "name": "stdout",
     "output_type": "stream",
     "text": [
      "(793, 18, 259, 1)\n"
     ]
    }
   ],
   "source": [
    "X_train = np.array(x_train)\n",
    "X_test = np.array(x_test)\n",
    "Y_train = np.array(y_train)\n",
    "Y_test = np.array(y_test)\n",
    "print(X_train.shape)"
   ]
  },
  {
   "cell_type": "code",
   "execution_count": 32,
   "id": "fbf69087",
   "metadata": {},
   "outputs": [
    {
     "name": "stdout",
     "output_type": "stream",
     "text": [
      "Model: \"sequential_1\"\n",
      "_________________________________________________________________\n",
      " Layer (type)                Output Shape              Param #   \n",
      "=================================================================\n",
      " conv2d_4 (Conv2D)           (None, 18, 259, 64)       640       \n",
      "                                                                 \n",
      " batch_normalization_5 (Batc  (None, 18, 259, 64)      256       \n",
      " hNormalization)                                                 \n",
      "                                                                 \n",
      " conv2d_5 (Conv2D)           (None, 18, 259, 64)       36928     \n",
      "                                                                 \n",
      " batch_normalization_6 (Batc  (None, 18, 259, 64)      256       \n",
      " hNormalization)                                                 \n",
      "                                                                 \n",
      " max_pooling2d_2 (MaxPooling  (None, 9, 129, 64)       0         \n",
      " 2D)                                                             \n",
      "                                                                 \n",
      " dropout_3 (Dropout)         (None, 9, 129, 64)        0         \n",
      "                                                                 \n",
      " conv2d_6 (Conv2D)           (None, 9, 129, 128)       73856     \n",
      "                                                                 \n",
      " batch_normalization_7 (Batc  (None, 9, 129, 128)      512       \n",
      " hNormalization)                                                 \n",
      "                                                                 \n",
      " conv2d_7 (Conv2D)           (None, 9, 129, 128)       147584    \n",
      "                                                                 \n",
      " batch_normalization_8 (Batc  (None, 9, 129, 128)      512       \n",
      " hNormalization)                                                 \n",
      "                                                                 \n",
      " max_pooling2d_3 (MaxPooling  (None, 4, 64, 128)       0         \n",
      " 2D)                                                             \n",
      "                                                                 \n",
      " dropout_4 (Dropout)         (None, 4, 64, 128)        0         \n",
      "                                                                 \n",
      " flatten_1 (Flatten)         (None, 32768)             0         \n",
      "                                                                 \n",
      " dense_2 (Dense)             (None, 512)               16777728  \n",
      "                                                                 \n",
      " batch_normalization_9 (Batc  (None, 512)              2048      \n",
      " hNormalization)                                                 \n",
      "                                                                 \n",
      " dropout_5 (Dropout)         (None, 512)               0         \n",
      "                                                                 \n",
      " dense_3 (Dense)             (None, 4)                 2052      \n",
      "                                                                 \n",
      "=================================================================\n",
      "Total params: 17,042,372\n",
      "Trainable params: 17,040,580\n",
      "Non-trainable params: 1,792\n",
      "_________________________________________________________________\n"
     ]
    }
   ],
   "source": [
    "# This model gives 62% with 30 mfccs, 75.6% for 18 mfccs\n",
    "# change epochs from 20 - 24\n",
    "model = Sequential()\n",
    "from keras.layers import BatchNormalization\n",
    "model.add(Conv2D(64, (3, 3), activation='relu', padding='same', input_shape=(18, 259, 1)))\n",
    "model.add(BatchNormalization())\n",
    "model.add(Conv2D(64, (3, 3), activation='relu', padding='same'))\n",
    "model.add(BatchNormalization())\n",
    "model.add(MaxPooling2D(pool_size=(2, 2)))\n",
    "model.add(Dropout(0.25))\n",
    "\n",
    "model.add(Conv2D(128, (3, 3), activation='relu', padding='same'))\n",
    "model.add(BatchNormalization())\n",
    "model.add(Conv2D(128, (3, 3), activation='relu', padding='same'))\n",
    "model.add(BatchNormalization())\n",
    "model.add(MaxPooling2D(pool_size=(2, 2)))\n",
    "model.add(Dropout(0.25))\n",
    "\n",
    "model.add(Flatten())\n",
    "model.add(Dense(512, activation='relu'))\n",
    "model.add(BatchNormalization())\n",
    "model.add(Dropout(0.5))\n",
    "model.add(Dense(units=4, activation='softmax'))\n",
    "\n",
    "model.summary()"
   ]
  },
  {
   "cell_type": "code",
   "execution_count": 33,
   "id": "c62f779d",
   "metadata": {},
   "outputs": [
    {
     "name": "stdout",
     "output_type": "stream",
     "text": [
      "Epoch 1/20\n",
      "25/25 [==============================] - 113s 4s/step - loss: 1.5021 - accuracy: 0.4741 - val_loss: 26.8977 - val_accuracy: 0.2965\n",
      "Epoch 2/20\n",
      "25/25 [==============================] - 105s 4s/step - loss: 0.9346 - accuracy: 0.6381 - val_loss: 12.2759 - val_accuracy: 0.3719\n",
      "Epoch 3/20\n",
      "25/25 [==============================] - 91s 4s/step - loss: 0.7727 - accuracy: 0.6986 - val_loss: 8.2981 - val_accuracy: 0.2764\n",
      "Epoch 4/20\n",
      "25/25 [==============================] - 90s 4s/step - loss: 0.5888 - accuracy: 0.7806 - val_loss: 3.9626 - val_accuracy: 0.3518\n",
      "Epoch 5/20\n",
      "25/25 [==============================] - 86s 3s/step - loss: 0.4874 - accuracy: 0.8108 - val_loss: 4.2884 - val_accuracy: 0.3266\n",
      "Epoch 6/20\n",
      "25/25 [==============================] - 86s 3s/step - loss: 0.3481 - accuracy: 0.8752 - val_loss: 2.3770 - val_accuracy: 0.4372\n",
      "Epoch 7/20\n",
      "25/25 [==============================] - 93s 4s/step - loss: 0.2764 - accuracy: 0.9067 - val_loss: 1.5224 - val_accuracy: 0.5276\n",
      "Epoch 8/20\n",
      "25/25 [==============================] - 87s 3s/step - loss: 0.2699 - accuracy: 0.9016 - val_loss: 1.5767 - val_accuracy: 0.5377\n",
      "Epoch 9/20\n",
      "25/25 [==============================] - 94s 4s/step - loss: 0.2528 - accuracy: 0.9004 - val_loss: 1.0393 - val_accuracy: 0.6683\n",
      "Epoch 10/20\n",
      "25/25 [==============================] - 90s 4s/step - loss: 0.1831 - accuracy: 0.9395 - val_loss: 1.1130 - val_accuracy: 0.6382\n",
      "Epoch 11/20\n",
      "25/25 [==============================] - 91s 4s/step - loss: 0.1450 - accuracy: 0.9483 - val_loss: 1.7493 - val_accuracy: 0.6181\n",
      "Epoch 12/20\n",
      "25/25 [==============================] - 91s 4s/step - loss: 0.0938 - accuracy: 0.9672 - val_loss: 1.0545 - val_accuracy: 0.6734\n",
      "Epoch 13/20\n",
      "25/25 [==============================] - 96s 4s/step - loss: 0.1202 - accuracy: 0.9571 - val_loss: 1.1166 - val_accuracy: 0.6734\n",
      "Epoch 14/20\n",
      "25/25 [==============================] - 84s 3s/step - loss: 0.0655 - accuracy: 0.9811 - val_loss: 1.1118 - val_accuracy: 0.7236\n",
      "Epoch 15/20\n",
      "25/25 [==============================] - 112s 5s/step - loss: 0.0501 - accuracy: 0.9849 - val_loss: 1.1497 - val_accuracy: 0.6784\n",
      "Epoch 16/20\n",
      "25/25 [==============================] - 84s 3s/step - loss: 0.0514 - accuracy: 0.9849 - val_loss: 0.8515 - val_accuracy: 0.7337\n",
      "Epoch 17/20\n",
      "25/25 [==============================] - 85s 3s/step - loss: 0.0614 - accuracy: 0.9786 - val_loss: 1.2150 - val_accuracy: 0.6633\n",
      "Epoch 18/20\n",
      "25/25 [==============================] - 86s 3s/step - loss: 0.0686 - accuracy: 0.9760 - val_loss: 1.3376 - val_accuracy: 0.6432\n",
      "Epoch 19/20\n",
      "25/25 [==============================] - 83s 3s/step - loss: 0.0630 - accuracy: 0.9786 - val_loss: 1.2831 - val_accuracy: 0.6784\n",
      "Epoch 20/20\n",
      "25/25 [==============================] - 81s 3s/step - loss: 0.0797 - accuracy: 0.9760 - val_loss: 1.1539 - val_accuracy: 0.7186\n"
     ]
    }
   ],
   "source": [
    "# Train and Test Model\n",
    "model.compile(loss='sparse_categorical_crossentropy', optimizer='adam', metrics=['accuracy'])\n",
    "history = model.fit(X_train, Y_train, batch_size=32 , epochs= 20 , verbose=1, validation_data=(X_test, Y_test))"
   ]
  },
  {
   "cell_type": "code",
   "execution_count": 34,
   "id": "b09bbce8",
   "metadata": {},
   "outputs": [
    {
     "name": "stdout",
     "output_type": "stream",
     "text": [
      "7/7 [==============================] - 6s 687ms/step\n",
      "Precision: 0.7341773804085362\n",
      "Recall: 0.7185929648241206\n"
     ]
    }
   ],
   "source": [
    "# Calculate precision and recall\n",
    "# Get the predicted probabilities for the validation set\n",
    "y_pred_proba = model.predict(X_test)\n",
    "\n",
    "# Convert the predicted probabilities to class labels\n",
    "y_pred = np.argmax(y_pred_proba, axis=1)\n",
    "\n",
    "# Compute precision and recall using scikit-learn metrics\n",
    "from sklearn.metrics import precision_score, recall_score\n",
    "precision = precision_score(Y_test, y_pred, average='weighted')\n",
    "recall = recall_score(Y_test, y_pred, average='weighted')\n",
    "\n",
    "print('Precision:', precision)\n",
    "print('Recall:', recall)\n",
    "\n",
    "# Pre-Emphasis\n",
    "# Pre-Emphasis + Windowing: Precision: 77.97% Recall: 75.37%"
   ]
  },
  {
   "cell_type": "code",
   "execution_count": 35,
   "id": "14e4005a",
   "metadata": {},
   "outputs": [
    {
     "name": "stdout",
     "output_type": "stream",
     "text": [
      "7/7 [==============================] - 5s 676ms/step - loss: 1.1539 - accuracy: 0.7186\n",
      "Accuracy of our model on test data :  71.85929417610168 %\n"
     ]
    },
    {
     "ename": "ValueError",
     "evalue": "x and y must have same first dimension, but have shapes (24,) and (20,)",
     "output_type": "error",
     "traceback": [
      "\u001b[1;31m---------------------------------------------------------------------------\u001b[0m",
      "\u001b[1;31mValueError\u001b[0m                                Traceback (most recent call last)",
      "Input \u001b[1;32mIn [35]\u001b[0m, in \u001b[0;36m<cell line: 11>\u001b[1;34m()\u001b[0m\n\u001b[0;32m      8\u001b[0m test_loss \u001b[38;5;241m=\u001b[39m history\u001b[38;5;241m.\u001b[39mhistory[\u001b[38;5;124m'\u001b[39m\u001b[38;5;124mval_loss\u001b[39m\u001b[38;5;124m'\u001b[39m]\n\u001b[0;32m     10\u001b[0m fig\u001b[38;5;241m.\u001b[39mset_size_inches(\u001b[38;5;241m24\u001b[39m,\u001b[38;5;241m6\u001b[39m)\n\u001b[1;32m---> 11\u001b[0m \u001b[43max\u001b[49m\u001b[43m[\u001b[49m\u001b[38;5;241;43m0\u001b[39;49m\u001b[43m]\u001b[49m\u001b[38;5;241;43m.\u001b[39;49m\u001b[43mplot\u001b[49m\u001b[43m(\u001b[49m\u001b[43mepochs\u001b[49m\u001b[43m \u001b[49m\u001b[43m,\u001b[49m\u001b[43m \u001b[49m\u001b[43mtrain_loss\u001b[49m\u001b[43m \u001b[49m\u001b[43m,\u001b[49m\u001b[43m \u001b[49m\u001b[43mlabel\u001b[49m\u001b[43m \u001b[49m\u001b[38;5;241;43m=\u001b[39;49m\u001b[43m \u001b[49m\u001b[38;5;124;43m'\u001b[39;49m\u001b[38;5;124;43mTraining Loss\u001b[39;49m\u001b[38;5;124;43m'\u001b[39;49m\u001b[43m)\u001b[49m\n\u001b[0;32m     12\u001b[0m ax[\u001b[38;5;241m0\u001b[39m]\u001b[38;5;241m.\u001b[39mplot(epochs , test_loss , label \u001b[38;5;241m=\u001b[39m \u001b[38;5;124m'\u001b[39m\u001b[38;5;124mTesting Loss\u001b[39m\u001b[38;5;124m'\u001b[39m)\n\u001b[0;32m     13\u001b[0m ax[\u001b[38;5;241m0\u001b[39m]\u001b[38;5;241m.\u001b[39mset_title(\u001b[38;5;124m'\u001b[39m\u001b[38;5;124mTraining & Testing Loss: Hamming Window\u001b[39m\u001b[38;5;124m'\u001b[39m)\n",
      "File \u001b[1;32m~\\anaconda3\\lib\\site-packages\\matplotlib\\axes\\_axes.py:1632\u001b[0m, in \u001b[0;36mAxes.plot\u001b[1;34m(self, scalex, scaley, data, *args, **kwargs)\u001b[0m\n\u001b[0;32m   1390\u001b[0m \u001b[38;5;124;03m\"\"\"\u001b[39;00m\n\u001b[0;32m   1391\u001b[0m \u001b[38;5;124;03mPlot y versus x as lines and/or markers.\u001b[39;00m\n\u001b[0;32m   1392\u001b[0m \n\u001b[1;32m   (...)\u001b[0m\n\u001b[0;32m   1629\u001b[0m \u001b[38;5;124;03m(``'green'``) or hex strings (``'#008000'``).\u001b[39;00m\n\u001b[0;32m   1630\u001b[0m \u001b[38;5;124;03m\"\"\"\u001b[39;00m\n\u001b[0;32m   1631\u001b[0m kwargs \u001b[38;5;241m=\u001b[39m cbook\u001b[38;5;241m.\u001b[39mnormalize_kwargs(kwargs, mlines\u001b[38;5;241m.\u001b[39mLine2D)\n\u001b[1;32m-> 1632\u001b[0m lines \u001b[38;5;241m=\u001b[39m [\u001b[38;5;241m*\u001b[39m\u001b[38;5;28mself\u001b[39m\u001b[38;5;241m.\u001b[39m_get_lines(\u001b[38;5;241m*\u001b[39margs, data\u001b[38;5;241m=\u001b[39mdata, \u001b[38;5;241m*\u001b[39m\u001b[38;5;241m*\u001b[39mkwargs)]\n\u001b[0;32m   1633\u001b[0m \u001b[38;5;28;01mfor\u001b[39;00m line \u001b[38;5;129;01min\u001b[39;00m lines:\n\u001b[0;32m   1634\u001b[0m     \u001b[38;5;28mself\u001b[39m\u001b[38;5;241m.\u001b[39madd_line(line)\n",
      "File \u001b[1;32m~\\anaconda3\\lib\\site-packages\\matplotlib\\axes\\_base.py:312\u001b[0m, in \u001b[0;36m_process_plot_var_args.__call__\u001b[1;34m(self, data, *args, **kwargs)\u001b[0m\n\u001b[0;32m    310\u001b[0m     this \u001b[38;5;241m+\u001b[39m\u001b[38;5;241m=\u001b[39m args[\u001b[38;5;241m0\u001b[39m],\n\u001b[0;32m    311\u001b[0m     args \u001b[38;5;241m=\u001b[39m args[\u001b[38;5;241m1\u001b[39m:]\n\u001b[1;32m--> 312\u001b[0m \u001b[38;5;28;01myield from\u001b[39;00m \u001b[38;5;28;43mself\u001b[39;49m\u001b[38;5;241;43m.\u001b[39;49m\u001b[43m_plot_args\u001b[49m\u001b[43m(\u001b[49m\u001b[43mthis\u001b[49m\u001b[43m,\u001b[49m\u001b[43m \u001b[49m\u001b[43mkwargs\u001b[49m\u001b[43m)\u001b[49m\n",
      "File \u001b[1;32m~\\anaconda3\\lib\\site-packages\\matplotlib\\axes\\_base.py:498\u001b[0m, in \u001b[0;36m_process_plot_var_args._plot_args\u001b[1;34m(self, tup, kwargs, return_kwargs)\u001b[0m\n\u001b[0;32m    495\u001b[0m     \u001b[38;5;28mself\u001b[39m\u001b[38;5;241m.\u001b[39maxes\u001b[38;5;241m.\u001b[39myaxis\u001b[38;5;241m.\u001b[39mupdate_units(y)\n\u001b[0;32m    497\u001b[0m \u001b[38;5;28;01mif\u001b[39;00m x\u001b[38;5;241m.\u001b[39mshape[\u001b[38;5;241m0\u001b[39m] \u001b[38;5;241m!=\u001b[39m y\u001b[38;5;241m.\u001b[39mshape[\u001b[38;5;241m0\u001b[39m]:\n\u001b[1;32m--> 498\u001b[0m     \u001b[38;5;28;01mraise\u001b[39;00m \u001b[38;5;167;01mValueError\u001b[39;00m(\u001b[38;5;124mf\u001b[39m\u001b[38;5;124m\"\u001b[39m\u001b[38;5;124mx and y must have same first dimension, but \u001b[39m\u001b[38;5;124m\"\u001b[39m\n\u001b[0;32m    499\u001b[0m                      \u001b[38;5;124mf\u001b[39m\u001b[38;5;124m\"\u001b[39m\u001b[38;5;124mhave shapes \u001b[39m\u001b[38;5;132;01m{\u001b[39;00mx\u001b[38;5;241m.\u001b[39mshape\u001b[38;5;132;01m}\u001b[39;00m\u001b[38;5;124m and \u001b[39m\u001b[38;5;132;01m{\u001b[39;00my\u001b[38;5;241m.\u001b[39mshape\u001b[38;5;132;01m}\u001b[39;00m\u001b[38;5;124m\"\u001b[39m)\n\u001b[0;32m    500\u001b[0m \u001b[38;5;28;01mif\u001b[39;00m x\u001b[38;5;241m.\u001b[39mndim \u001b[38;5;241m>\u001b[39m \u001b[38;5;241m2\u001b[39m \u001b[38;5;129;01mor\u001b[39;00m y\u001b[38;5;241m.\u001b[39mndim \u001b[38;5;241m>\u001b[39m \u001b[38;5;241m2\u001b[39m:\n\u001b[0;32m    501\u001b[0m     \u001b[38;5;28;01mraise\u001b[39;00m \u001b[38;5;167;01mValueError\u001b[39;00m(\u001b[38;5;124mf\u001b[39m\u001b[38;5;124m\"\u001b[39m\u001b[38;5;124mx and y can be no greater than 2D, but have \u001b[39m\u001b[38;5;124m\"\u001b[39m\n\u001b[0;32m    502\u001b[0m                      \u001b[38;5;124mf\u001b[39m\u001b[38;5;124m\"\u001b[39m\u001b[38;5;124mshapes \u001b[39m\u001b[38;5;132;01m{\u001b[39;00mx\u001b[38;5;241m.\u001b[39mshape\u001b[38;5;132;01m}\u001b[39;00m\u001b[38;5;124m and \u001b[39m\u001b[38;5;132;01m{\u001b[39;00my\u001b[38;5;241m.\u001b[39mshape\u001b[38;5;132;01m}\u001b[39;00m\u001b[38;5;124m\"\u001b[39m)\n",
      "\u001b[1;31mValueError\u001b[0m: x and y must have same first dimension, but have shapes (24,) and (20,)"
     ]
    },
    {
     "data": {
      "image/png": "[encoded data removed]",
      "text/plain": [
       "<Figure size 1728x432 with 2 Axes>"
      ]
     },
     "metadata": {
      "needs_background": "light"
     },
     "output_type": "display_data"
    }
   ],
   "source": [
    "print(\"Accuracy of our model on test data : \" , model.evaluate(X_test,Y_test)[1]*100 , \"%\")\n",
    "\n",
    "epochs = [i for i in range(24)]\n",
    "fig , ax = plt.subplots(1,2)\n",
    "train_acc = history.history['accuracy']\n",
    "train_loss = history.history['loss']\n",
    "test_acc = history.history['val_accuracy']\n",
    "test_loss = history.history['val_loss']\n",
    "\n",
    "fig.set_size_inches(24,6)\n",
    "ax[0].plot(epochs , train_loss , label = 'Training Loss')\n",
    "ax[0].plot(epochs , test_loss , label = 'Testing Loss')\n",
    "ax[0].set_title('Training & Testing Loss: Hamming Window')\n",
    "ax[0].legend()\n",
    "ax[0].set_xlabel(\"Epochs\")\n",
    "\n",
    "ax[1].plot(epochs , train_acc , label = 'Training Accuracy')\n",
    "ax[1].plot(epochs , test_acc , label = 'Testing Accuracy')\n",
    "ax[1].set_title('Training & Testing Accuracy: Hamming Window')\n",
    "ax[1].legend()\n",
    "ax[1].set_xlabel(\"Epochs\")\n",
    "plt.show()"
   ]
  },
  {
   "cell_type": "code",
   "execution_count": null,
   "id": "3391b911",
   "metadata": {},
   "outputs": [],
   "source": [
    "# Confusion Matrix\n",
    "from sklearn.metrics import confusion_matrix\n",
    "import seaborn as sns\n",
    "\n",
    "# make predictions on the test set\n",
    "y_pred = model.predict(x_test)\n",
    "\n",
    "# define y_true as the one-hot encoded version of the test labels\n",
    "y_true = np.zeros((len(y_test), 4)) # 4 is the number of emotions being classified\n",
    "y_true[np.arange(len(y_test)), y_test] = 1\n",
    "\n",
    "# convert y_pred from probabilities to class labels\n",
    "predicted_labels = np.argmax(y_pred, axis=1)\n",
    "\n",
    "# define y_pred as the one-hot encoded version of the predicted labels\n",
    "y_pred = np.zeros((len(predicted_labels), 4)) # 4 is the number of emotions being classified\n",
    "y_pred[np.arange(len(predicted_labels)), predicted_labels] = 1\n",
    "\n",
    "# compute confusion matrix\n",
    "cm = confusion_matrix(y_true.argmax(axis=1), y_pred.argmax(axis=1), normalize='true')\n",
    "labels = ['Happy', 'Sad', 'Angry', 'Neutral'] # replace with your own emotion labels\n",
    "\n",
    "# plot the confusion matrix as a heatmap\n",
    "sns.heatmap(cm, annot=True, fmt='.2f', cmap='Blues', xticklabels=labels, yticklabels=labels)\n",
    "\n",
    "# add axis labels and title\n",
    "plt.xlabel('Predicted Label')\n",
    "plt.ylabel('True Label')\n",
    "plt.title('Confusion Matrix: Pre-Emphasis + Windowing')\n",
    "\n",
    "# show the plot\n",
    "plt.show()\n"
   ]
  },
  {
   "cell_type": "code",
   "execution_count": 23,
   "id": "9ec39372",
   "metadata": {},
   "outputs": [
    {
     "name": "stdout",
     "output_type": "stream",
     "text": [
      "25/25 [==============================] - 81s 3s/step - loss: 1.5875 - accuracy: 0.4527 - val_loss: 44.7870 - val_accuracy: 0.2161\n",
      "7/7 [==============================] - 5s 693ms/step - loss: 44.7870 - accuracy: 0.2161\n",
      "1\n",
      "Epoch 1/2\n",
      "25/25 [==============================] - 112s 4s/step - loss: 0.8988 - accuracy: 0.6520 - val_loss: 14.7401 - val_accuracy: 0.3518\n",
      "Epoch 2/2\n",
      "25/25 [==============================] - 106s 4s/step - loss: 0.7094 - accuracy: 0.7289 - val_loss: 7.5212 - val_accuracy: 0.3568\n",
      "7/7 [==============================] - 6s 848ms/step - loss: 7.5212 - accuracy: 0.3568\n",
      "2\n",
      "Epoch 1/3\n",
      "25/25 [==============================] - 92s 4s/step - loss: 0.5498 - accuracy: 0.8146 - val_loss: 5.5013 - val_accuracy: 0.3467\n",
      "Epoch 2/3\n",
      "25/25 [==============================] - 76s 3s/step - loss: 0.4984 - accuracy: 0.8108 - val_loss: 7.2135 - val_accuracy: 0.2211\n",
      "Epoch 3/3\n",
      "25/25 [==============================] - 77s 3s/step - loss: 0.3436 - accuracy: 0.8701 - val_loss: 2.2239 - val_accuracy: 0.4724\n",
      "7/7 [==============================] - 4s 607ms/step - loss: 2.2239 - accuracy: 0.4724\n",
      "3\n",
      "Epoch 1/4\n",
      "25/25 [==============================] - 75s 3s/step - loss: 0.2407 - accuracy: 0.9180 - val_loss: 1.0119 - val_accuracy: 0.7085\n",
      "Epoch 2/4\n",
      "25/25 [==============================] - 76s 3s/step - loss: 0.1674 - accuracy: 0.9369 - val_loss: 0.8703 - val_accuracy: 0.6683\n",
      "Epoch 3/4\n",
      "25/25 [==============================] - 79s 3s/step - loss: 0.1597 - accuracy: 0.9407 - val_loss: 1.3207 - val_accuracy: 0.6533\n",
      "Epoch 4/4\n",
      "25/25 [==============================] - 80s 3s/step - loss: 0.1383 - accuracy: 0.9622 - val_loss: 1.2999 - val_accuracy: 0.7035\n",
      "7/7 [==============================] - 4s 619ms/step - loss: 1.2999 - accuracy: 0.7035\n",
      "4\n",
      "Epoch 1/5\n",
      "25/25 [==============================] - 78s 3s/step - loss: 0.0940 - accuracy: 0.9685 - val_loss: 1.1503 - val_accuracy: 0.6784\n",
      "Epoch 2/5\n",
      "25/25 [==============================] - 102s 4s/step - loss: 0.0773 - accuracy: 0.9710 - val_loss: 1.0368 - val_accuracy: 0.7638\n",
      "Epoch 3/5\n",
      "25/25 [==============================] - 80s 3s/step - loss: 0.0692 - accuracy: 0.9811 - val_loss: 1.1294 - val_accuracy: 0.6683\n",
      "Epoch 4/5\n",
      "25/25 [==============================] - 91s 4s/step - loss: 0.0557 - accuracy: 0.9836 - val_loss: 1.2458 - val_accuracy: 0.6482\n",
      "Epoch 5/5\n",
      "25/25 [==============================] - 76s 3s/step - loss: 0.0593 - accuracy: 0.9786 - val_loss: 1.1324 - val_accuracy: 0.7286\n",
      "7/7 [==============================] - 4s 563ms/step - loss: 1.1324 - accuracy: 0.7286\n",
      "5\n",
      "Epoch 1/6\n",
      "25/25 [==============================] - 75s 3s/step - loss: 0.0633 - accuracy: 0.9798 - val_loss: 1.0737 - val_accuracy: 0.7387\n",
      "Epoch 2/6\n",
      "25/25 [==============================] - 96s 4s/step - loss: 0.0795 - accuracy: 0.9685 - val_loss: 1.8696 - val_accuracy: 0.6583\n",
      "Epoch 3/6\n",
      "25/25 [==============================] - 86s 3s/step - loss: 0.0669 - accuracy: 0.9811 - val_loss: 2.1002 - val_accuracy: 0.6030\n",
      "Epoch 4/6\n",
      "25/25 [==============================] - 67s 3s/step - loss: 0.0529 - accuracy: 0.9823 - val_loss: 1.2250 - val_accuracy: 0.7437\n",
      "Epoch 5/6\n",
      "25/25 [==============================] - 68s 3s/step - loss: 0.0395 - accuracy: 0.9912 - val_loss: 1.5179 - val_accuracy: 0.7035\n",
      "Epoch 6/6\n",
      "25/25 [==============================] - 67s 3s/step - loss: 0.0487 - accuracy: 0.9836 - val_loss: 1.2067 - val_accuracy: 0.7286\n",
      "7/7 [==============================] - 4s 590ms/step - loss: 1.2067 - accuracy: 0.7286\n",
      "6\n",
      "Epoch 1/8\n",
      "25/25 [==============================] - 67s 3s/step - loss: 0.0527 - accuracy: 0.9887 - val_loss: 1.4209 - val_accuracy: 0.6784\n",
      "Epoch 2/8\n",
      "25/25 [==============================] - 68s 3s/step - loss: 0.0388 - accuracy: 0.9861 - val_loss: 1.3386 - val_accuracy: 0.6734\n",
      "Epoch 3/8\n",
      "25/25 [==============================] - 72s 3s/step - loss: 0.0436 - accuracy: 0.9861 - val_loss: 1.3533 - val_accuracy: 0.6834\n",
      "Epoch 4/8\n",
      "25/25 [==============================] - 73s 3s/step - loss: 0.0241 - accuracy: 0.9975 - val_loss: 1.3144 - val_accuracy: 0.6935\n",
      "Epoch 5/8\n",
      "25/25 [==============================] - 110s 4s/step - loss: 0.0164 - accuracy: 0.9987 - val_loss: 1.1494 - val_accuracy: 0.7437\n",
      "Epoch 6/8\n",
      "25/25 [==============================] - 86s 3s/step - loss: 0.0132 - accuracy: 1.0000 - val_loss: 1.0239 - val_accuracy: 0.7789\n",
      "Epoch 7/8\n",
      "25/25 [==============================] - 119s 5s/step - loss: 0.0132 - accuracy: 0.9962 - val_loss: 1.1924 - val_accuracy: 0.7437\n",
      "Epoch 8/8\n",
      "25/25 [==============================] - 126s 5s/step - loss: 0.0293 - accuracy: 0.9899 - val_loss: 1.4358 - val_accuracy: 0.6884\n",
      "7/7 [==============================] - 7s 969ms/step - loss: 1.4358 - accuracy: 0.6884\n",
      "7\n",
      "Epoch 1/10\n",
      "25/25 [==============================] - 113s 5s/step - loss: 0.0281 - accuracy: 0.9912 - val_loss: 1.2441 - val_accuracy: 0.7136\n",
      "Epoch 2/10\n",
      "25/25 [==============================] - 108s 4s/step - loss: 0.0188 - accuracy: 0.9937 - val_loss: 1.0781 - val_accuracy: 0.7638\n",
      "Epoch 3/10\n",
      "25/25 [==============================] - 118s 5s/step - loss: 0.0122 - accuracy: 0.9975 - val_loss: 1.2392 - val_accuracy: 0.7337\n",
      "Epoch 4/10\n",
      "25/25 [==============================] - 104s 4s/step - loss: 0.0175 - accuracy: 0.9937 - val_loss: 1.3525 - val_accuracy: 0.7538\n",
      "Epoch 5/10\n",
      "25/25 [==============================] - 109s 4s/step - loss: 0.0493 - accuracy: 0.9849 - val_loss: 1.4550 - val_accuracy: 0.7136\n",
      "Epoch 6/10\n",
      "25/25 [==============================] - 90s 4s/step - loss: 0.0358 - accuracy: 0.9861 - val_loss: 1.8058 - val_accuracy: 0.6734\n",
      "Epoch 7/10\n",
      "25/25 [==============================] - 95s 4s/step - loss: 0.0790 - accuracy: 0.9723 - val_loss: 1.8728 - val_accuracy: 0.6432\n",
      "Epoch 8/10\n",
      "25/25 [==============================] - 98s 4s/step - loss: 0.0587 - accuracy: 0.9798 - val_loss: 2.4264 - val_accuracy: 0.5980\n",
      "Epoch 9/10\n",
      "25/25 [==============================] - 85s 3s/step - loss: 0.0764 - accuracy: 0.9748 - val_loss: 1.4561 - val_accuracy: 0.6985\n",
      "Epoch 10/10\n",
      "25/25 [==============================] - 84s 3s/step - loss: 0.0581 - accuracy: 0.9823 - val_loss: 1.5108 - val_accuracy: 0.7085\n",
      "7/7 [==============================] - 5s 710ms/step - loss: 1.5108 - accuracy: 0.7085\n",
      "8\n",
      "Epoch 1/14\n",
      "25/25 [==============================] - 89s 4s/step - loss: 0.0414 - accuracy: 0.9874 - val_loss: 3.7749 - val_accuracy: 0.5025\n",
      "Epoch 2/14\n",
      "25/25 [==============================] - 83s 3s/step - loss: 0.0517 - accuracy: 0.9798 - val_loss: 1.8918 - val_accuracy: 0.6683\n",
      "Epoch 3/14\n",
      "25/25 [==============================] - 83s 3s/step - loss: 0.0401 - accuracy: 0.9887 - val_loss: 1.3404 - val_accuracy: 0.7136\n",
      "Epoch 4/14\n",
      "25/25 [==============================] - 82s 3s/step - loss: 0.0324 - accuracy: 0.9899 - val_loss: 1.3395 - val_accuracy: 0.7538\n",
      "Epoch 5/14\n",
      "25/25 [==============================] - 84s 3s/step - loss: 0.0337 - accuracy: 0.9874 - val_loss: 1.3372 - val_accuracy: 0.7538\n",
      "Epoch 6/14\n",
      "25/25 [==============================] - 76s 3s/step - loss: 0.0152 - accuracy: 0.9962 - val_loss: 1.1372 - val_accuracy: 0.7638\n",
      "Epoch 7/14\n",
      "25/25 [==============================] - 66s 3s/step - loss: 0.0218 - accuracy: 0.9937 - val_loss: 1.1508 - val_accuracy: 0.7688\n",
      "Epoch 8/14\n",
      "25/25 [==============================] - 79s 3s/step - loss: 0.0060 - accuracy: 1.0000 - val_loss: 1.2359 - val_accuracy: 0.7538\n",
      "Epoch 9/14\n",
      "25/25 [==============================] - 105s 4s/step - loss: 0.0056 - accuracy: 1.0000 - val_loss: 1.3873 - val_accuracy: 0.7487\n",
      "Epoch 10/14\n",
      "25/25 [==============================] - 101s 4s/step - loss: 0.0080 - accuracy: 1.0000 - val_loss: 1.3122 - val_accuracy: 0.7638\n",
      "Epoch 11/14\n",
      "25/25 [==============================] - 142s 6s/step - loss: 0.0069 - accuracy: 0.9987 - val_loss: 1.2068 - val_accuracy: 0.7538\n",
      "Epoch 12/14\n",
      "25/25 [==============================] - 111s 4s/step - loss: 0.0092 - accuracy: 0.9975 - val_loss: 1.2459 - val_accuracy: 0.7437\n",
      "Epoch 13/14\n",
      "25/25 [==============================] - 116s 5s/step - loss: 0.0062 - accuracy: 1.0000 - val_loss: 1.3057 - val_accuracy: 0.7186\n",
      "Epoch 14/14\n",
      "25/25 [==============================] - 132s 5s/step - loss: 0.0039 - accuracy: 1.0000 - val_loss: 1.1788 - val_accuracy: 0.7588\n"
     ]
    },
    {
     "name": "stdout",
     "output_type": "stream",
     "text": [
      "7/7 [==============================] - 8s 772ms/step - loss: 1.1788 - accuracy: 0.7588\n",
      "9\n",
      "Epoch 1/16\n",
      "25/25 [==============================] - 135s 5s/step - loss: 0.0060 - accuracy: 1.0000 - val_loss: 1.2609 - val_accuracy: 0.7437\n",
      "Epoch 2/16\n",
      "25/25 [==============================] - 136s 6s/step - loss: 0.0026 - accuracy: 1.0000 - val_loss: 1.2628 - val_accuracy: 0.7789\n",
      "Epoch 3/16\n",
      "25/25 [==============================] - 141s 6s/step - loss: 0.0040 - accuracy: 0.9987 - val_loss: 1.4156 - val_accuracy: 0.7437\n",
      "Epoch 4/16\n",
      "25/25 [==============================] - 139s 6s/step - loss: 0.0055 - accuracy: 0.9987 - val_loss: 1.2737 - val_accuracy: 0.7588\n",
      "Epoch 5/16\n",
      "25/25 [==============================] - 40985s 1708s/step - loss: 0.0044 - accuracy: 1.0000 - val_loss: 1.1824 - val_accuracy: 0.7286\n",
      "Epoch 6/16\n",
      "25/25 [==============================] - 106s 4s/step - loss: 0.0027 - accuracy: 1.0000 - val_loss: 1.3110 - val_accuracy: 0.7085\n",
      "Epoch 7/16\n",
      "25/25 [==============================] - 106s 4s/step - loss: 0.0018 - accuracy: 1.0000 - val_loss: 1.2634 - val_accuracy: 0.7437\n",
      "Epoch 8/16\n",
      "25/25 [==============================] - 109s 4s/step - loss: 0.0028 - accuracy: 0.9987 - val_loss: 1.2689 - val_accuracy: 0.7437\n",
      "Epoch 9/16\n",
      "25/25 [==============================] - 105s 4s/step - loss: 0.0016 - accuracy: 1.0000 - val_loss: 1.2806 - val_accuracy: 0.7688\n",
      "Epoch 10/16\n",
      "25/25 [==============================] - 132s 5s/step - loss: 0.0028 - accuracy: 1.0000 - val_loss: 1.2626 - val_accuracy: 0.7387\n",
      "Epoch 11/16\n",
      "25/25 [==============================] - 101s 4s/step - loss: 0.0023 - accuracy: 1.0000 - val_loss: 1.2505 - val_accuracy: 0.7487\n",
      "Epoch 12/16\n",
      "25/25 [==============================] - 96s 4s/step - loss: 0.0027 - accuracy: 1.0000 - val_loss: 1.2689 - val_accuracy: 0.7638\n",
      "Epoch 13/16\n",
      "25/25 [==============================] - 95s 4s/step - loss: 0.0037 - accuracy: 0.9987 - val_loss: 1.3076 - val_accuracy: 0.7387\n",
      "Epoch 14/16\n",
      "25/25 [==============================] - 96s 4s/step - loss: 0.0027 - accuracy: 1.0000 - val_loss: 1.3352 - val_accuracy: 0.7538\n",
      "Epoch 15/16\n",
      "25/25 [==============================] - 93s 4s/step - loss: 0.0027 - accuracy: 1.0000 - val_loss: 1.3147 - val_accuracy: 0.7437\n",
      "Epoch 16/16\n",
      "25/25 [==============================] - 106s 4s/step - loss: 0.0015 - accuracy: 1.0000 - val_loss: 1.3082 - val_accuracy: 0.7638\n",
      "7/7 [==============================] - 7s 945ms/step - loss: 1.3082 - accuracy: 0.7638\n",
      "10\n",
      "Epoch 1/18\n",
      "25/25 [==============================] - 111s 4s/step - loss: 0.0058 - accuracy: 0.9987 - val_loss: 1.2695 - val_accuracy: 0.7538\n",
      "Epoch 2/18\n",
      "25/25 [==============================] - 85s 3s/step - loss: 0.0053 - accuracy: 0.9987 - val_loss: 1.3712 - val_accuracy: 0.7588\n",
      "Epoch 3/18\n",
      "25/25 [==============================] - 69s 3s/step - loss: 0.0044 - accuracy: 0.9987 - val_loss: 1.3530 - val_accuracy: 0.7588\n",
      "Epoch 4/18\n",
      "25/25 [==============================] - 62s 2s/step - loss: 0.0083 - accuracy: 0.9975 - val_loss: 1.8017 - val_accuracy: 0.7136\n",
      "Epoch 5/18\n",
      "25/25 [==============================] - 60s 2s/step - loss: 0.0080 - accuracy: 0.9975 - val_loss: 1.7318 - val_accuracy: 0.6935\n",
      "Epoch 6/18\n",
      "25/25 [==============================] - 75s 3s/step - loss: 0.0034 - accuracy: 0.9987 - val_loss: 1.5240 - val_accuracy: 0.7286\n",
      "Epoch 7/18\n",
      "25/25 [==============================] - 6659s 3s/step - loss: 0.0149 - accuracy: 0.9950 - val_loss: 1.8433 - val_accuracy: 0.7035\n",
      "Epoch 8/18\n",
      "25/25 [==============================] - 79s 3s/step - loss: 0.0118 - accuracy: 0.9962 - val_loss: 2.0705 - val_accuracy: 0.6533\n",
      "Epoch 9/18\n",
      "25/25 [==============================] - 108s 4s/step - loss: 0.0192 - accuracy: 0.9924 - val_loss: 2.0625 - val_accuracy: 0.6332\n",
      "Epoch 10/18\n",
      "25/25 [==============================] - 106s 4s/step - loss: 0.0164 - accuracy: 0.9950 - val_loss: 1.7941 - val_accuracy: 0.6734\n",
      "Epoch 11/18\n",
      "25/25 [==============================] - 123s 5s/step - loss: 0.0335 - accuracy: 0.9861 - val_loss: 2.1212 - val_accuracy: 0.6884\n",
      "Epoch 12/18\n",
      "25/25 [==============================] - 132s 5s/step - loss: 0.0335 - accuracy: 0.9887 - val_loss: 1.8394 - val_accuracy: 0.6935\n",
      "Epoch 13/18\n",
      "25/25 [==============================] - 133s 5s/step - loss: 0.0503 - accuracy: 0.9849 - val_loss: 2.0590 - val_accuracy: 0.6633\n",
      "Epoch 14/18\n",
      "25/25 [==============================] - 104s 4s/step - loss: 0.1320 - accuracy: 0.9483 - val_loss: 3.4529 - val_accuracy: 0.5829\n",
      "Epoch 15/18\n",
      "25/25 [==============================] - 114s 5s/step - loss: 0.1622 - accuracy: 0.9433 - val_loss: 4.6661 - val_accuracy: 0.5226\n",
      "Epoch 16/18\n",
      "25/25 [==============================] - 77s 3s/step - loss: 0.1193 - accuracy: 0.9584 - val_loss: 3.0771 - val_accuracy: 0.5980\n",
      "Epoch 17/18\n",
      "25/25 [==============================] - 87s 3s/step - loss: 0.0717 - accuracy: 0.9660 - val_loss: 2.2600 - val_accuracy: 0.6432\n",
      "Epoch 18/18\n",
      "25/25 [==============================] - 95s 4s/step - loss: 0.0435 - accuracy: 0.9887 - val_loss: 1.7180 - val_accuracy: 0.6734\n",
      "7/7 [==============================] - 4s 496ms/step - loss: 1.7180 - accuracy: 0.6734\n",
      "11\n",
      "Epoch 1/20\n",
      "25/25 [==============================] - 94s 4s/step - loss: 0.0298 - accuracy: 0.9912 - val_loss: 1.3380 - val_accuracy: 0.7337\n",
      "Epoch 2/20\n",
      "25/25 [==============================] - 130s 5s/step - loss: 0.0222 - accuracy: 0.9937 - val_loss: 1.3204 - val_accuracy: 0.7236\n",
      "Epoch 3/20\n",
      "25/25 [==============================] - 94s 4s/step - loss: 0.0207 - accuracy: 0.9924 - val_loss: 1.6209 - val_accuracy: 0.6985\n",
      "Epoch 4/20\n",
      "25/25 [==============================] - 95s 4s/step - loss: 0.0112 - accuracy: 0.9975 - val_loss: 1.3844 - val_accuracy: 0.6834\n",
      "Epoch 5/20\n",
      "25/25 [==============================] - 97s 4s/step - loss: 0.0114 - accuracy: 0.9975 - val_loss: 1.2053 - val_accuracy: 0.7387\n",
      "Epoch 6/20\n",
      "25/25 [==============================] - 102s 4s/step - loss: 0.0102 - accuracy: 0.9987 - val_loss: 1.2609 - val_accuracy: 0.7337\n",
      "Epoch 7/20\n",
      "25/25 [==============================] - 93s 4s/step - loss: 0.0072 - accuracy: 0.9987 - val_loss: 1.2304 - val_accuracy: 0.7337\n",
      "Epoch 8/20\n",
      "25/25 [==============================] - 96s 4s/step - loss: 0.0056 - accuracy: 0.9987 - val_loss: 1.2281 - val_accuracy: 0.7437\n",
      "Epoch 9/20\n",
      "25/25 [==============================] - 93s 4s/step - loss: 0.0023 - accuracy: 1.0000 - val_loss: 1.2364 - val_accuracy: 0.7387\n",
      "Epoch 10/20\n",
      "25/25 [==============================] - 83s 3s/step - loss: 0.0059 - accuracy: 0.9987 - val_loss: 1.2182 - val_accuracy: 0.7437\n",
      "Epoch 11/20\n",
      "25/25 [==============================] - 91s 4s/step - loss: 0.0015 - accuracy: 1.0000 - val_loss: 1.2009 - val_accuracy: 0.7337\n",
      "Epoch 12/20\n",
      "25/25 [==============================] - 72s 3s/step - loss: 0.0076 - accuracy: 0.9987 - val_loss: 1.2953 - val_accuracy: 0.7136\n",
      "Epoch 13/20\n",
      "25/25 [==============================] - 75s 3s/step - loss: 0.0027 - accuracy: 1.0000 - val_loss: 1.3282 - val_accuracy: 0.7487\n",
      "Epoch 14/20\n",
      "25/25 [==============================] - 74s 3s/step - loss: 0.0018 - accuracy: 1.0000 - val_loss: 1.2740 - val_accuracy: 0.7538\n",
      "Epoch 15/20\n",
      "25/25 [==============================] - 85s 3s/step - loss: 0.0036 - accuracy: 0.9987 - val_loss: 1.3008 - val_accuracy: 0.7136\n",
      "Epoch 16/20\n",
      "25/25 [==============================] - 89s 4s/step - loss: 0.0042 - accuracy: 1.0000 - val_loss: 1.3075 - val_accuracy: 0.7286\n",
      "Epoch 17/20\n",
      "25/25 [==============================] - 71s 3s/step - loss: 0.0045 - accuracy: 1.0000 - val_loss: 1.2438 - val_accuracy: 0.7337\n",
      "Epoch 18/20\n",
      "25/25 [==============================] - 83s 3s/step - loss: 0.0029 - accuracy: 1.0000 - val_loss: 1.2315 - val_accuracy: 0.7286\n",
      "Epoch 19/20\n",
      "25/25 [==============================] - 74s 3s/step - loss: 0.0026 - accuracy: 1.0000 - val_loss: 1.2781 - val_accuracy: 0.7286\n",
      "Epoch 20/20\n",
      "25/25 [==============================] - 79s 3s/step - loss: 0.0024 - accuracy: 1.0000 - val_loss: 1.2534 - val_accuracy: 0.7437\n",
      "7/7 [==============================] - 7s 806ms/step - loss: 1.2534 - accuracy: 0.7437\n",
      "12\n",
      "Epoch 1/24\n",
      "25/25 [==============================] - 71s 3s/step - loss: 0.0055 - accuracy: 0.9975 - val_loss: 1.4684 - val_accuracy: 0.7186\n",
      "Epoch 2/24\n"
     ]
    },
    {
     "name": "stdout",
     "output_type": "stream",
     "text": [
      "25/25 [==============================] - 79s 3s/step - loss: 0.0044 - accuracy: 0.9987 - val_loss: 1.5744 - val_accuracy: 0.7136\n",
      "Epoch 3/24\n",
      "25/25 [==============================] - 87s 3s/step - loss: 0.0048 - accuracy: 0.9987 - val_loss: 1.5098 - val_accuracy: 0.7437\n",
      "Epoch 4/24\n",
      "25/25 [==============================] - 97s 4s/step - loss: 0.0047 - accuracy: 0.9975 - val_loss: 1.4734 - val_accuracy: 0.7136\n",
      "Epoch 5/24\n",
      "25/25 [==============================] - 101s 4s/step - loss: 0.0075 - accuracy: 0.9975 - val_loss: 1.3003 - val_accuracy: 0.7286\n",
      "Epoch 6/24\n",
      "25/25 [==============================] - 106s 4s/step - loss: 0.0018 - accuracy: 1.0000 - val_loss: 1.2830 - val_accuracy: 0.7387\n",
      "Epoch 7/24\n",
      "25/25 [==============================] - 109s 4s/step - loss: 0.0040 - accuracy: 0.9987 - val_loss: 1.2533 - val_accuracy: 0.7638\n",
      "Epoch 8/24\n",
      "25/25 [==============================] - 151s 6s/step - loss: 0.0019 - accuracy: 1.0000 - val_loss: 1.2210 - val_accuracy: 0.7588\n",
      "Epoch 9/24\n",
      "25/25 [==============================] - 163s 7s/step - loss: 0.0032 - accuracy: 1.0000 - val_loss: 1.2055 - val_accuracy: 0.7538\n",
      "Epoch 10/24\n",
      "25/25 [==============================] - 147s 6s/step - loss: 0.0043 - accuracy: 0.9975 - val_loss: 1.3195 - val_accuracy: 0.7236\n",
      "Epoch 11/24\n",
      "25/25 [==============================] - 117s 5s/step - loss: 0.0020 - accuracy: 1.0000 - val_loss: 1.2943 - val_accuracy: 0.7387\n",
      "Epoch 12/24\n",
      "25/25 [==============================] - 105s 4s/step - loss: 0.0028 - accuracy: 1.0000 - val_loss: 1.2944 - val_accuracy: 0.7538\n",
      "Epoch 13/24\n",
      "25/25 [==============================] - 110s 4s/step - loss: 0.0014 - accuracy: 1.0000 - val_loss: 1.2815 - val_accuracy: 0.7688\n",
      "Epoch 14/24\n",
      "25/25 [==============================] - 114s 5s/step - loss: 0.0010 - accuracy: 1.0000 - val_loss: 1.3341 - val_accuracy: 0.7387\n",
      "Epoch 15/24\n",
      "25/25 [==============================] - 79s 3s/step - loss: 0.0229 - accuracy: 0.9975 - val_loss: 1.4204 - val_accuracy: 0.6935\n",
      "Epoch 16/24\n",
      "25/25 [==============================] - 86s 3s/step - loss: 0.0073 - accuracy: 0.9975 - val_loss: 1.4546 - val_accuracy: 0.6985\n",
      "Epoch 17/24\n",
      "25/25 [==============================] - 91s 4s/step - loss: 0.0129 - accuracy: 0.9950 - val_loss: 1.5446 - val_accuracy: 0.6935\n",
      "Epoch 18/24\n",
      "25/25 [==============================] - 107s 4s/step - loss: 0.0086 - accuracy: 0.9975 - val_loss: 1.6373 - val_accuracy: 0.7286\n",
      "Epoch 19/24\n",
      "25/25 [==============================] - 80s 3s/step - loss: 0.0085 - accuracy: 0.9975 - val_loss: 1.7807 - val_accuracy: 0.7085\n",
      "Epoch 20/24\n",
      "25/25 [==============================] - 124s 5s/step - loss: 0.0084 - accuracy: 0.9962 - val_loss: 1.7390 - val_accuracy: 0.6382\n",
      "Epoch 21/24\n",
      "25/25 [==============================] - 110s 4s/step - loss: 0.0210 - accuracy: 0.9912 - val_loss: 1.5333 - val_accuracy: 0.6884\n",
      "Epoch 22/24\n",
      "25/25 [==============================] - 132s 5s/step - loss: 0.0243 - accuracy: 0.9950 - val_loss: 1.5930 - val_accuracy: 0.7035\n",
      "Epoch 23/24\n",
      "25/25 [==============================] - 108s 4s/step - loss: 0.0086 - accuracy: 0.9987 - val_loss: 1.6388 - val_accuracy: 0.7236\n",
      "Epoch 24/24\n",
      "25/25 [==============================] - 105s 4s/step - loss: 0.0081 - accuracy: 0.9987 - val_loss: 2.1595 - val_accuracy: 0.6834\n",
      "7/7 [==============================] - 6s 865ms/step - loss: 2.1595 - accuracy: 0.6834\n",
      "13\n",
      "Loop Completed\n",
      "7/7 [==============================] - 7s 1s/step - loss: 1.3082 - accuracy: 0.7638\n",
      "Best epoch: 16 with validation accuracy: 0.7638190984725952\n",
      "Test loss: 1.3081632852554321 Test accuracy: 0.7638190984725952\n"
     ]
    }
   ],
   "source": [
    "best_val_acc = 0.0\n",
    "best_epoch = None\n",
    "num_epochs = 24\n",
    "count = 0\n",
    "Epoch_list = [1, 2 ,3,4,5,6, 8, 10, 14, 16, 18, 20, 24]\n",
    "HistoryData = []\n",
    "Val_loss_Data = []\n",
    "Val_Acc_Data = []\n",
    "model.compile(loss='sparse_categorical_crossentropy', optimizer='adam', metrics=['accuracy'])\n",
    "for Loop_Var in Epoch_list:\n",
    "    # Train the model for one epoch\n",
    "    history = model.fit(X_train, Y_train, batch_size=32 , epochs=Loop_Var , verbose=1, validation_data=(X_test, Y_test))\n",
    "    HistoryData.append(history)\n",
    "\n",
    "    # Evaluate the model on the validation set\n",
    "    val_loss, val_acc = model.evaluate(X_test, Y_test, batch_size=32, verbose=1)\n",
    "    Val_loss_Data.append(val_loss)\n",
    "    Val_Acc_Data.append(val_acc)\n",
    "\n",
    "    # Check if this epoch had the best validation accuracy so far\n",
    "    if val_acc > best_val_acc:\n",
    "        best_val_acc = val_acc\n",
    "        best_epoch = Loop_Var\n",
    "        # Save the model weights for the best epoch\n",
    "        model.save_weights('best_model_weights.h5')\n",
    "    count = count + 1\n",
    "    print(count)\n",
    "print('Loop Completed')\n",
    "# Load the weights for the best epoch\n",
    "model.load_weights('best_model_weights.h5')\n",
    "\n",
    "# Evaluate the model on the test set\n",
    "test_loss, test_acc = model.evaluate(X_test, Y_test, batch_size=32, verbose=1)\n",
    "\n",
    "print(\"Best epoch: {} with validation accuracy: {}\".format(best_epoch, best_val_acc))\n",
    "print(\"Test loss: {} Test accuracy: {}\".format(test_loss, test_acc))"
   ]
  },
  {
   "cell_type": "code",
   "execution_count": 24,
   "id": "bf51a6ee",
   "metadata": {},
   "outputs": [
    {
     "name": "stdout",
     "output_type": "stream",
     "text": [
      "You must install pydot (`pip install pydot`) and install graphviz (see instructions at https://graphviz.gitlab.io/download/) for plot_model to work.\n"
     ]
    }
   ],
   "source": [
    "from keras.utils.vis_utils import plot_model\n",
    "plot_model(model, show_shapes=True, show_layer_names=True)"
   ]
  },
  {
   "cell_type": "code",
   "execution_count": 37,
   "id": "5dd75e27",
   "metadata": {},
   "outputs": [
    {
     "data": {
      "text/plain": [
       "Text(0.5, 1.0, 'Windowed: CASIA Anger')"
      ]
     },
     "execution_count": 37,
     "metadata": {},
     "output_type": "execute_result"
    },
    {
     "data": {
      "image/png": "[encoded data removed]",
      "text/plain": [
       "<Figure size 432x288 with 1 Axes>"
      ]
     },
     "metadata": {
      "needs_background": "light"
     },
     "output_type": "display_data"
    }
   ],
   "source": [
    "# Print wavefile \n",
    "Path = \"C:/Users/Lenovo/Documents/3rd Year Project/Dataset/Combined_Hamming_Shortened_Cropped/a_C_201-angry-liuchanhg.wav\"\n",
    "signal, sr = librosa.load(Path)\n",
    "librosa.display.waveshow(signal, sr=sr)\n",
    "plt.title(\"Windowed: CASIA Anger\")"
   ]
  },
  {
   "cell_type": "code",
   "execution_count": 39,
   "id": "87fd0301",
   "metadata": {},
   "outputs": [
    {
     "data": {
      "text/plain": [
       "Text(0.5, 1.0, 'Baseline: CASIA Anger')"
      ]
     },
     "execution_count": 39,
     "metadata": {},
     "output_type": "execute_result"
    },
    {
     "data": {
      "image/png": "[encoded data removed]",
      "text/plain": [
       "<Figure size 432x288 with 1 Axes>"
      ]
     },
     "metadata": {
      "needs_background": "light"
     },
     "output_type": "display_data"
    }
   ],
   "source": [
    "# Print wavefile \n",
    "Path = \"C:/Users/Lenovo/Documents/3rd Year Project/Dataset/Combined_Baseline_Shortened_Cropped/a_C_201-angry-liuchanhg.wav\"\n",
    "signal, sr = librosa.load(Path)\n",
    "librosa.display.waveshow(signal, sr=sr)\n",
    "plt.title(\"Baseline: CASIA Anger\")"
   ]
  },
  {
   "cell_type": "code",
   "execution_count": null,
   "id": "04bc5e8d",
   "metadata": {},
   "outputs": [],
   "source": []
  }
 ],
 "metadata": {
  "kernelspec": {
   "display_name": "Python 3 (ipykernel)",
   "language": "python",
   "name": "python3"
  },
  "language_info": {
   "codemirror_mode": {
    "name": "ipython",
    "version": 3
   },
   "file_extension": ".py",
   "mimetype": "text/x-python",
   "name": "python",
   "nbconvert_exporter": "python",
   "pygments_lexer": "ipython3",
   "version": "3.9.12"
  }
 },
 "nbformat": 4,
 "nbformat_minor": 5
}
